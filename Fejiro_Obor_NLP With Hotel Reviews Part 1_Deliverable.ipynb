{
 "cells": [
  {
   "cell_type": "markdown",
   "id": "c50dad75",
   "metadata": {},
   "source": [
    "Author: Fejiro Obor"
   ]
  },
  {
   "cell_type": "markdown",
   "id": "1ef6ce8c",
   "metadata": {},
   "source": [
    "# NLP With Hotel Reviews - Part 1"
   ]
  },
  {
   "cell_type": "markdown",
   "id": "bf4889e0",
   "metadata": {},
   "source": [
    "This deliverable aims to perform exploratory data anslysis and data pre-processing on a hotel reviews dataset provided by the BrainStation team."
   ]
  },
  {
   "cell_type": "code",
   "execution_count": 1,
   "id": "01484361",
   "metadata": {},
   "outputs": [],
   "source": [
    "# Importing the required libraries\n",
    "\n",
    "import pandas as pd\n",
    "import numpy as np\n",
    "import matplotlib.pyplot as plt\n",
    "import seaborn as sns\n",
    "from sklearn.model_selection import train_test_split\n",
    "\n",
    "import warnings\n",
    "warnings.filterwarnings('ignore')"
   ]
  },
  {
   "cell_type": "code",
   "execution_count": 2,
   "id": "4cfb4b44",
   "metadata": {},
   "outputs": [
    {
     "data": {
      "text/html": [
       "<div>\n",
       "<style scoped>\n",
       "    .dataframe tbody tr th:only-of-type {\n",
       "        vertical-align: middle;\n",
       "    }\n",
       "\n",
       "    .dataframe tbody tr th {\n",
       "        vertical-align: top;\n",
       "    }\n",
       "\n",
       "    .dataframe thead th {\n",
       "        text-align: right;\n",
       "    }\n",
       "</style>\n",
       "<table border=\"1\" class=\"dataframe\">\n",
       "  <thead>\n",
       "    <tr style=\"text-align: right;\">\n",
       "      <th></th>\n",
       "      <th>Hotel_Address</th>\n",
       "      <th>Additional_Number_of_Scoring</th>\n",
       "      <th>Review_Date</th>\n",
       "      <th>Average_Score</th>\n",
       "      <th>Hotel_Name</th>\n",
       "      <th>Reviewer_Nationality</th>\n",
       "      <th>Negative_Review</th>\n",
       "      <th>Review_Total_Negative_Word_Counts</th>\n",
       "      <th>Total_Number_of_Reviews</th>\n",
       "      <th>Positive_Review</th>\n",
       "      <th>Review_Total_Positive_Word_Counts</th>\n",
       "      <th>Total_Number_of_Reviews_Reviewer_Has_Given</th>\n",
       "      <th>Reviewer_Score</th>\n",
       "      <th>Tags</th>\n",
       "      <th>days_since_review</th>\n",
       "      <th>lat</th>\n",
       "      <th>lng</th>\n",
       "    </tr>\n",
       "  </thead>\n",
       "  <tbody>\n",
       "    <tr>\n",
       "      <th>0</th>\n",
       "      <td>s Gravesandestraat 55 Oost 1092 AA Amsterdam ...</td>\n",
       "      <td>194</td>\n",
       "      <td>8/3/2017</td>\n",
       "      <td>7.7</td>\n",
       "      <td>Hotel Arena</td>\n",
       "      <td>Russia</td>\n",
       "      <td>I am so angry that i made this post available...</td>\n",
       "      <td>397</td>\n",
       "      <td>1403</td>\n",
       "      <td>Only the park outside of the hotel was beauti...</td>\n",
       "      <td>11</td>\n",
       "      <td>7</td>\n",
       "      <td>2.9</td>\n",
       "      <td>[' Leisure trip ', ' Couple ', ' Duplex Double...</td>\n",
       "      <td>0 days</td>\n",
       "      <td>52.360576</td>\n",
       "      <td>4.915968</td>\n",
       "    </tr>\n",
       "    <tr>\n",
       "      <th>1</th>\n",
       "      <td>s Gravesandestraat 55 Oost 1092 AA Amsterdam ...</td>\n",
       "      <td>194</td>\n",
       "      <td>8/3/2017</td>\n",
       "      <td>7.7</td>\n",
       "      <td>Hotel Arena</td>\n",
       "      <td>Ireland</td>\n",
       "      <td>No Negative</td>\n",
       "      <td>0</td>\n",
       "      <td>1403</td>\n",
       "      <td>No real complaints the hotel was great great ...</td>\n",
       "      <td>105</td>\n",
       "      <td>7</td>\n",
       "      <td>7.5</td>\n",
       "      <td>[' Leisure trip ', ' Couple ', ' Duplex Double...</td>\n",
       "      <td>0 days</td>\n",
       "      <td>52.360576</td>\n",
       "      <td>4.915968</td>\n",
       "    </tr>\n",
       "    <tr>\n",
       "      <th>2</th>\n",
       "      <td>s Gravesandestraat 55 Oost 1092 AA Amsterdam ...</td>\n",
       "      <td>194</td>\n",
       "      <td>7/31/2017</td>\n",
       "      <td>7.7</td>\n",
       "      <td>Hotel Arena</td>\n",
       "      <td>Australia</td>\n",
       "      <td>Rooms are nice but for elderly a bit difficul...</td>\n",
       "      <td>42</td>\n",
       "      <td>1403</td>\n",
       "      <td>Location was good and staff were ok It is cut...</td>\n",
       "      <td>21</td>\n",
       "      <td>9</td>\n",
       "      <td>7.1</td>\n",
       "      <td>[' Leisure trip ', ' Family with young childre...</td>\n",
       "      <td>3 days</td>\n",
       "      <td>52.360576</td>\n",
       "      <td>4.915968</td>\n",
       "    </tr>\n",
       "  </tbody>\n",
       "</table>\n",
       "</div>"
      ],
      "text/plain": [
       "                                       Hotel_Address  \\\n",
       "0   s Gravesandestraat 55 Oost 1092 AA Amsterdam ...   \n",
       "1   s Gravesandestraat 55 Oost 1092 AA Amsterdam ...   \n",
       "2   s Gravesandestraat 55 Oost 1092 AA Amsterdam ...   \n",
       "\n",
       "   Additional_Number_of_Scoring Review_Date  Average_Score   Hotel_Name  \\\n",
       "0                           194    8/3/2017            7.7  Hotel Arena   \n",
       "1                           194    8/3/2017            7.7  Hotel Arena   \n",
       "2                           194   7/31/2017            7.7  Hotel Arena   \n",
       "\n",
       "  Reviewer_Nationality                                    Negative_Review  \\\n",
       "0              Russia    I am so angry that i made this post available...   \n",
       "1             Ireland                                         No Negative   \n",
       "2           Australia    Rooms are nice but for elderly a bit difficul...   \n",
       "\n",
       "   Review_Total_Negative_Word_Counts  Total_Number_of_Reviews  \\\n",
       "0                                397                     1403   \n",
       "1                                  0                     1403   \n",
       "2                                 42                     1403   \n",
       "\n",
       "                                     Positive_Review  \\\n",
       "0   Only the park outside of the hotel was beauti...   \n",
       "1   No real complaints the hotel was great great ...   \n",
       "2   Location was good and staff were ok It is cut...   \n",
       "\n",
       "   Review_Total_Positive_Word_Counts  \\\n",
       "0                                 11   \n",
       "1                                105   \n",
       "2                                 21   \n",
       "\n",
       "   Total_Number_of_Reviews_Reviewer_Has_Given  Reviewer_Score  \\\n",
       "0                                           7             2.9   \n",
       "1                                           7             7.5   \n",
       "2                                           9             7.1   \n",
       "\n",
       "                                                Tags days_since_review  \\\n",
       "0  [' Leisure trip ', ' Couple ', ' Duplex Double...            0 days   \n",
       "1  [' Leisure trip ', ' Couple ', ' Duplex Double...            0 days   \n",
       "2  [' Leisure trip ', ' Family with young childre...            3 days   \n",
       "\n",
       "         lat       lng  \n",
       "0  52.360576  4.915968  \n",
       "1  52.360576  4.915968  \n",
       "2  52.360576  4.915968  "
      ]
     },
     "execution_count": 2,
     "metadata": {},
     "output_type": "execute_result"
    }
   ],
   "source": [
    "# Loading the hotel reviews dataset\n",
    "\n",
    "reviews = pd.read_csv('Hotel_Reviews.csv')\n",
    "reviews.head(3)"
   ]
  },
  {
   "cell_type": "markdown",
   "id": "ceab7ef1",
   "metadata": {},
   "source": [
    "## Exploratory Data Analysis"
   ]
  },
  {
   "cell_type": "markdown",
   "id": "c9347c5f",
   "metadata": {},
   "source": [
    "#### Q.1a checking the dimensions of the dataset."
   ]
  },
  {
   "cell_type": "code",
   "execution_count": 3,
   "id": "7906b0a1",
   "metadata": {},
   "outputs": [
    {
     "data": {
      "text/plain": [
       "(515738, 17)"
      ]
     },
     "execution_count": 3,
     "metadata": {},
     "output_type": "execute_result"
    }
   ],
   "source": [
    "reviews.shape"
   ]
  },
  {
   "cell_type": "markdown",
   "id": "c4255c2e",
   "metadata": {},
   "source": [
    "The Dataset contains 515,738 rows and 17 columns. The individual column names are listed below:"
   ]
  },
  {
   "cell_type": "code",
   "execution_count": 4,
   "id": "83913b00",
   "metadata": {},
   "outputs": [
    {
     "name": "stdout",
     "output_type": "stream",
     "text": [
      "<class 'pandas.core.frame.DataFrame'>\n",
      "RangeIndex: 515738 entries, 0 to 515737\n",
      "Data columns (total 17 columns):\n",
      " #   Column                                      Non-Null Count   Dtype  \n",
      "---  ------                                      --------------   -----  \n",
      " 0   Hotel_Address                               515738 non-null  object \n",
      " 1   Additional_Number_of_Scoring                515738 non-null  int64  \n",
      " 2   Review_Date                                 515738 non-null  object \n",
      " 3   Average_Score                               515738 non-null  float64\n",
      " 4   Hotel_Name                                  515738 non-null  object \n",
      " 5   Reviewer_Nationality                        515738 non-null  object \n",
      " 6   Negative_Review                             515738 non-null  object \n",
      " 7   Review_Total_Negative_Word_Counts           515738 non-null  int64  \n",
      " 8   Total_Number_of_Reviews                     515738 non-null  int64  \n",
      " 9   Positive_Review                             515738 non-null  object \n",
      " 10  Review_Total_Positive_Word_Counts           515738 non-null  int64  \n",
      " 11  Total_Number_of_Reviews_Reviewer_Has_Given  515738 non-null  int64  \n",
      " 12  Reviewer_Score                              515738 non-null  float64\n",
      " 13  Tags                                        515738 non-null  object \n",
      " 14  days_since_review                           515738 non-null  object \n",
      " 15  lat                                         512470 non-null  float64\n",
      " 16  lng                                         512470 non-null  float64\n",
      "dtypes: float64(4), int64(5), object(8)\n",
      "memory usage: 66.9+ MB\n"
     ]
    }
   ],
   "source": [
    "reviews.info()"
   ]
  },
  {
   "cell_type": "markdown",
   "id": "5a4d58b4",
   "metadata": {},
   "source": [
    "The non-numeric columns in the dataset include: "
   ]
  },
  {
   "cell_type": "code",
   "execution_count": 5,
   "id": "a008bdcf",
   "metadata": {},
   "outputs": [
    {
     "data": {
      "text/plain": [
       "['Hotel_Address',\n",
       " 'Review_Date',\n",
       " 'Hotel_Name',\n",
       " 'Reviewer_Nationality',\n",
       " 'Negative_Review',\n",
       " 'Positive_Review',\n",
       " 'Tags',\n",
       " 'days_since_review']"
      ]
     },
     "execution_count": 5,
     "metadata": {},
     "output_type": "execute_result"
    }
   ],
   "source": [
    "categ_columns = reviews.select_dtypes('object').columns[:]\n",
    "list(categ_columns)"
   ]
  },
  {
   "cell_type": "code",
   "execution_count": 6,
   "id": "f05e22ea",
   "metadata": {},
   "outputs": [
    {
     "data": {
      "text/html": [
       "<div>\n",
       "<style scoped>\n",
       "    .dataframe tbody tr th:only-of-type {\n",
       "        vertical-align: middle;\n",
       "    }\n",
       "\n",
       "    .dataframe tbody tr th {\n",
       "        vertical-align: top;\n",
       "    }\n",
       "\n",
       "    .dataframe thead th {\n",
       "        text-align: right;\n",
       "    }\n",
       "</style>\n",
       "<table border=\"1\" class=\"dataframe\">\n",
       "  <thead>\n",
       "    <tr style=\"text-align: right;\">\n",
       "      <th></th>\n",
       "      <th>Hotel_Address</th>\n",
       "      <th>Review_Date</th>\n",
       "      <th>Hotel_Name</th>\n",
       "      <th>Reviewer_Nationality</th>\n",
       "      <th>Negative_Review</th>\n",
       "      <th>Positive_Review</th>\n",
       "      <th>Tags</th>\n",
       "      <th>days_since_review</th>\n",
       "    </tr>\n",
       "  </thead>\n",
       "  <tbody>\n",
       "    <tr>\n",
       "      <th>0</th>\n",
       "      <td>s Gravesandestraat 55 Oost 1092 AA Amsterdam ...</td>\n",
       "      <td>8/3/2017</td>\n",
       "      <td>Hotel Arena</td>\n",
       "      <td>Russia</td>\n",
       "      <td>I am so angry that i made this post available...</td>\n",
       "      <td>Only the park outside of the hotel was beauti...</td>\n",
       "      <td>[' Leisure trip ', ' Couple ', ' Duplex Double...</td>\n",
       "      <td>0 days</td>\n",
       "    </tr>\n",
       "    <tr>\n",
       "      <th>1</th>\n",
       "      <td>s Gravesandestraat 55 Oost 1092 AA Amsterdam ...</td>\n",
       "      <td>8/3/2017</td>\n",
       "      <td>Hotel Arena</td>\n",
       "      <td>Ireland</td>\n",
       "      <td>No Negative</td>\n",
       "      <td>No real complaints the hotel was great great ...</td>\n",
       "      <td>[' Leisure trip ', ' Couple ', ' Duplex Double...</td>\n",
       "      <td>0 days</td>\n",
       "    </tr>\n",
       "    <tr>\n",
       "      <th>2</th>\n",
       "      <td>s Gravesandestraat 55 Oost 1092 AA Amsterdam ...</td>\n",
       "      <td>7/31/2017</td>\n",
       "      <td>Hotel Arena</td>\n",
       "      <td>Australia</td>\n",
       "      <td>Rooms are nice but for elderly a bit difficul...</td>\n",
       "      <td>Location was good and staff were ok It is cut...</td>\n",
       "      <td>[' Leisure trip ', ' Family with young childre...</td>\n",
       "      <td>3 days</td>\n",
       "    </tr>\n",
       "  </tbody>\n",
       "</table>\n",
       "</div>"
      ],
      "text/plain": [
       "                                       Hotel_Address Review_Date   Hotel_Name  \\\n",
       "0   s Gravesandestraat 55 Oost 1092 AA Amsterdam ...    8/3/2017  Hotel Arena   \n",
       "1   s Gravesandestraat 55 Oost 1092 AA Amsterdam ...    8/3/2017  Hotel Arena   \n",
       "2   s Gravesandestraat 55 Oost 1092 AA Amsterdam ...   7/31/2017  Hotel Arena   \n",
       "\n",
       "  Reviewer_Nationality                                    Negative_Review  \\\n",
       "0              Russia    I am so angry that i made this post available...   \n",
       "1             Ireland                                         No Negative   \n",
       "2           Australia    Rooms are nice but for elderly a bit difficul...   \n",
       "\n",
       "                                     Positive_Review  \\\n",
       "0   Only the park outside of the hotel was beauti...   \n",
       "1   No real complaints the hotel was great great ...   \n",
       "2   Location was good and staff were ok It is cut...   \n",
       "\n",
       "                                                Tags days_since_review  \n",
       "0  [' Leisure trip ', ' Couple ', ' Duplex Double...            0 days  \n",
       "1  [' Leisure trip ', ' Couple ', ' Duplex Double...            0 days  \n",
       "2  [' Leisure trip ', ' Family with young childre...            3 days  "
      ]
     },
     "execution_count": 6,
     "metadata": {},
     "output_type": "execute_result"
    }
   ],
   "source": [
    "reviews[categ_columns].head(3)"
   ]
  },
  {
   "cell_type": "markdown",
   "id": "2988eb7a",
   "metadata": {},
   "source": [
    "The numeric columns in the dataset include:"
   ]
  },
  {
   "cell_type": "code",
   "execution_count": 7,
   "id": "87133e40",
   "metadata": {},
   "outputs": [
    {
     "data": {
      "text/plain": [
       "['Additional_Number_of_Scoring',\n",
       " 'Average_Score',\n",
       " 'Review_Total_Negative_Word_Counts',\n",
       " 'Total_Number_of_Reviews',\n",
       " 'Review_Total_Positive_Word_Counts',\n",
       " 'Total_Number_of_Reviews_Reviewer_Has_Given',\n",
       " 'Reviewer_Score',\n",
       " 'lat',\n",
       " 'lng']"
      ]
     },
     "execution_count": 7,
     "metadata": {},
     "output_type": "execute_result"
    }
   ],
   "source": [
    "num_columns = reviews.select_dtypes('number').columns[:]\n",
    "list(num_columns)"
   ]
  },
  {
   "cell_type": "code",
   "execution_count": 8,
   "id": "e69217de",
   "metadata": {},
   "outputs": [
    {
     "data": {
      "text/html": [
       "<div>\n",
       "<style scoped>\n",
       "    .dataframe tbody tr th:only-of-type {\n",
       "        vertical-align: middle;\n",
       "    }\n",
       "\n",
       "    .dataframe tbody tr th {\n",
       "        vertical-align: top;\n",
       "    }\n",
       "\n",
       "    .dataframe thead th {\n",
       "        text-align: right;\n",
       "    }\n",
       "</style>\n",
       "<table border=\"1\" class=\"dataframe\">\n",
       "  <thead>\n",
       "    <tr style=\"text-align: right;\">\n",
       "      <th></th>\n",
       "      <th>Additional_Number_of_Scoring</th>\n",
       "      <th>Average_Score</th>\n",
       "      <th>Review_Total_Negative_Word_Counts</th>\n",
       "      <th>Total_Number_of_Reviews</th>\n",
       "      <th>Review_Total_Positive_Word_Counts</th>\n",
       "      <th>Total_Number_of_Reviews_Reviewer_Has_Given</th>\n",
       "      <th>Reviewer_Score</th>\n",
       "      <th>lat</th>\n",
       "      <th>lng</th>\n",
       "    </tr>\n",
       "  </thead>\n",
       "  <tbody>\n",
       "    <tr>\n",
       "      <th>0</th>\n",
       "      <td>194</td>\n",
       "      <td>7.7</td>\n",
       "      <td>397</td>\n",
       "      <td>1403</td>\n",
       "      <td>11</td>\n",
       "      <td>7</td>\n",
       "      <td>2.9</td>\n",
       "      <td>52.360576</td>\n",
       "      <td>4.915968</td>\n",
       "    </tr>\n",
       "    <tr>\n",
       "      <th>1</th>\n",
       "      <td>194</td>\n",
       "      <td>7.7</td>\n",
       "      <td>0</td>\n",
       "      <td>1403</td>\n",
       "      <td>105</td>\n",
       "      <td>7</td>\n",
       "      <td>7.5</td>\n",
       "      <td>52.360576</td>\n",
       "      <td>4.915968</td>\n",
       "    </tr>\n",
       "    <tr>\n",
       "      <th>2</th>\n",
       "      <td>194</td>\n",
       "      <td>7.7</td>\n",
       "      <td>42</td>\n",
       "      <td>1403</td>\n",
       "      <td>21</td>\n",
       "      <td>9</td>\n",
       "      <td>7.1</td>\n",
       "      <td>52.360576</td>\n",
       "      <td>4.915968</td>\n",
       "    </tr>\n",
       "    <tr>\n",
       "      <th>3</th>\n",
       "      <td>194</td>\n",
       "      <td>7.7</td>\n",
       "      <td>210</td>\n",
       "      <td>1403</td>\n",
       "      <td>26</td>\n",
       "      <td>1</td>\n",
       "      <td>3.8</td>\n",
       "      <td>52.360576</td>\n",
       "      <td>4.915968</td>\n",
       "    </tr>\n",
       "    <tr>\n",
       "      <th>4</th>\n",
       "      <td>194</td>\n",
       "      <td>7.7</td>\n",
       "      <td>140</td>\n",
       "      <td>1403</td>\n",
       "      <td>8</td>\n",
       "      <td>3</td>\n",
       "      <td>6.7</td>\n",
       "      <td>52.360576</td>\n",
       "      <td>4.915968</td>\n",
       "    </tr>\n",
       "  </tbody>\n",
       "</table>\n",
       "</div>"
      ],
      "text/plain": [
       "   Additional_Number_of_Scoring  Average_Score  \\\n",
       "0                           194            7.7   \n",
       "1                           194            7.7   \n",
       "2                           194            7.7   \n",
       "3                           194            7.7   \n",
       "4                           194            7.7   \n",
       "\n",
       "   Review_Total_Negative_Word_Counts  Total_Number_of_Reviews  \\\n",
       "0                                397                     1403   \n",
       "1                                  0                     1403   \n",
       "2                                 42                     1403   \n",
       "3                                210                     1403   \n",
       "4                                140                     1403   \n",
       "\n",
       "   Review_Total_Positive_Word_Counts  \\\n",
       "0                                 11   \n",
       "1                                105   \n",
       "2                                 21   \n",
       "3                                 26   \n",
       "4                                  8   \n",
       "\n",
       "   Total_Number_of_Reviews_Reviewer_Has_Given  Reviewer_Score        lat  \\\n",
       "0                                           7             2.9  52.360576   \n",
       "1                                           7             7.5  52.360576   \n",
       "2                                           9             7.1  52.360576   \n",
       "3                                           1             3.8  52.360576   \n",
       "4                                           3             6.7  52.360576   \n",
       "\n",
       "        lng  \n",
       "0  4.915968  \n",
       "1  4.915968  \n",
       "2  4.915968  \n",
       "3  4.915968  \n",
       "4  4.915968  "
      ]
     },
     "execution_count": 8,
     "metadata": {},
     "output_type": "execute_result"
    }
   ],
   "source": [
    "reviews[num_columns].head()"
   ]
  },
  {
   "cell_type": "markdown",
   "id": "d6ecdb5e",
   "metadata": {},
   "source": [
    "Next, I will check to see if there are any duplicate rows of data:"
   ]
  },
  {
   "cell_type": "code",
   "execution_count": 9,
   "id": "66ca2083",
   "metadata": {},
   "outputs": [
    {
     "data": {
      "text/plain": [
       "526"
      ]
     },
     "execution_count": 9,
     "metadata": {},
     "output_type": "execute_result"
    }
   ],
   "source": [
    "len(reviews[reviews.duplicated()])"
   ]
  },
  {
   "cell_type": "code",
   "execution_count": 10,
   "id": "5b1ea010",
   "metadata": {},
   "outputs": [
    {
     "data": {
      "text/html": [
       "<div>\n",
       "<style scoped>\n",
       "    .dataframe tbody tr th:only-of-type {\n",
       "        vertical-align: middle;\n",
       "    }\n",
       "\n",
       "    .dataframe tbody tr th {\n",
       "        vertical-align: top;\n",
       "    }\n",
       "\n",
       "    .dataframe thead th {\n",
       "        text-align: right;\n",
       "    }\n",
       "</style>\n",
       "<table border=\"1\" class=\"dataframe\">\n",
       "  <thead>\n",
       "    <tr style=\"text-align: right;\">\n",
       "      <th></th>\n",
       "      <th>Hotel_Address</th>\n",
       "      <th>Additional_Number_of_Scoring</th>\n",
       "      <th>Review_Date</th>\n",
       "      <th>Average_Score</th>\n",
       "      <th>Hotel_Name</th>\n",
       "      <th>Reviewer_Nationality</th>\n",
       "      <th>Negative_Review</th>\n",
       "      <th>Review_Total_Negative_Word_Counts</th>\n",
       "      <th>Total_Number_of_Reviews</th>\n",
       "      <th>Positive_Review</th>\n",
       "      <th>Review_Total_Positive_Word_Counts</th>\n",
       "      <th>Total_Number_of_Reviews_Reviewer_Has_Given</th>\n",
       "      <th>Reviewer_Score</th>\n",
       "      <th>Tags</th>\n",
       "      <th>days_since_review</th>\n",
       "      <th>lat</th>\n",
       "      <th>lng</th>\n",
       "    </tr>\n",
       "  </thead>\n",
       "  <tbody>\n",
       "    <tr>\n",
       "      <th>23704</th>\n",
       "      <td>100 110 Euston Road Camden London NW1 2AJ Unit...</td>\n",
       "      <td>728</td>\n",
       "      <td>2/25/2017</td>\n",
       "      <td>8.9</td>\n",
       "      <td>Pullman London St Pancras</td>\n",
       "      <td>China</td>\n",
       "      <td>none</td>\n",
       "      <td>2</td>\n",
       "      <td>3168</td>\n",
       "      <td>good location and super nice staff room is bi...</td>\n",
       "      <td>13</td>\n",
       "      <td>39</td>\n",
       "      <td>9.6</td>\n",
       "      <td>[' Business trip ', ' Solo traveler ', ' Class...</td>\n",
       "      <td>159 day</td>\n",
       "      <td>51.528677</td>\n",
       "      <td>-0.128349</td>\n",
       "    </tr>\n",
       "    <tr>\n",
       "      <th>61876</th>\n",
       "      <td>16 22 Great Russell Street Camden London WC1B ...</td>\n",
       "      <td>300</td>\n",
       "      <td>7/27/2017</td>\n",
       "      <td>9.0</td>\n",
       "      <td>The Bloomsbury Hotel</td>\n",
       "      <td>Israel</td>\n",
       "      <td>No Negative</td>\n",
       "      <td>0</td>\n",
       "      <td>1254</td>\n",
       "      <td>The attention received by Sebastian and his t...</td>\n",
       "      <td>12</td>\n",
       "      <td>4</td>\n",
       "      <td>9.6</td>\n",
       "      <td>[' Leisure trip ', ' Couple ', ' Superior Doub...</td>\n",
       "      <td>7 days</td>\n",
       "      <td>51.517167</td>\n",
       "      <td>-0.129053</td>\n",
       "    </tr>\n",
       "    <tr>\n",
       "      <th>68967</th>\n",
       "      <td>167 rue de Rome 17th arr 75017 Paris France</td>\n",
       "      <td>11</td>\n",
       "      <td>6/23/2017</td>\n",
       "      <td>6.8</td>\n",
       "      <td>Villa Eugenie</td>\n",
       "      <td>Netherlands</td>\n",
       "      <td>Location is very old not invested in past yea...</td>\n",
       "      <td>41</td>\n",
       "      <td>165</td>\n",
       "      <td>Location is central accessible by train parki...</td>\n",
       "      <td>12</td>\n",
       "      <td>24</td>\n",
       "      <td>4.6</td>\n",
       "      <td>[' Business trip ', ' Solo traveler ', ' Singl...</td>\n",
       "      <td>41 days</td>\n",
       "      <td>48.887128</td>\n",
       "      <td>2.314205</td>\n",
       "    </tr>\n",
       "  </tbody>\n",
       "</table>\n",
       "</div>"
      ],
      "text/plain": [
       "                                           Hotel_Address  \\\n",
       "23704  100 110 Euston Road Camden London NW1 2AJ Unit...   \n",
       "61876  16 22 Great Russell Street Camden London WC1B ...   \n",
       "68967        167 rue de Rome 17th arr 75017 Paris France   \n",
       "\n",
       "       Additional_Number_of_Scoring Review_Date  Average_Score  \\\n",
       "23704                           728   2/25/2017            8.9   \n",
       "61876                           300   7/27/2017            9.0   \n",
       "68967                            11   6/23/2017            6.8   \n",
       "\n",
       "                      Hotel_Name Reviewer_Nationality  \\\n",
       "23704  Pullman London St Pancras               China    \n",
       "61876       The Bloomsbury Hotel              Israel    \n",
       "68967              Villa Eugenie         Netherlands    \n",
       "\n",
       "                                         Negative_Review  \\\n",
       "23704                                               none   \n",
       "61876                                        No Negative   \n",
       "68967   Location is very old not invested in past yea...   \n",
       "\n",
       "       Review_Total_Negative_Word_Counts  Total_Number_of_Reviews  \\\n",
       "23704                                  2                     3168   \n",
       "61876                                  0                     1254   \n",
       "68967                                 41                      165   \n",
       "\n",
       "                                         Positive_Review  \\\n",
       "23704   good location and super nice staff room is bi...   \n",
       "61876   The attention received by Sebastian and his t...   \n",
       "68967   Location is central accessible by train parki...   \n",
       "\n",
       "       Review_Total_Positive_Word_Counts  \\\n",
       "23704                                 13   \n",
       "61876                                 12   \n",
       "68967                                 12   \n",
       "\n",
       "       Total_Number_of_Reviews_Reviewer_Has_Given  Reviewer_Score  \\\n",
       "23704                                          39             9.6   \n",
       "61876                                           4             9.6   \n",
       "68967                                          24             4.6   \n",
       "\n",
       "                                                    Tags days_since_review  \\\n",
       "23704  [' Business trip ', ' Solo traveler ', ' Class...           159 day   \n",
       "61876  [' Leisure trip ', ' Couple ', ' Superior Doub...            7 days   \n",
       "68967  [' Business trip ', ' Solo traveler ', ' Singl...           41 days   \n",
       "\n",
       "             lat       lng  \n",
       "23704  51.528677 -0.128349  \n",
       "61876  51.517167 -0.129053  \n",
       "68967  48.887128  2.314205  "
      ]
     },
     "execution_count": 10,
     "metadata": {},
     "output_type": "execute_result"
    }
   ],
   "source": [
    "reviews[reviews.duplicated()].head(3)"
   ]
  },
  {
   "cell_type": "markdown",
   "id": "3db6ecaa",
   "metadata": {},
   "source": [
    "There appears to be 526 duplicate rows within this dataset. I can drill into an example to see what these duplicates might look like before dropping them:"
   ]
  },
  {
   "cell_type": "code",
   "execution_count": 11,
   "id": "d82e637c",
   "metadata": {},
   "outputs": [
    {
     "data": {
      "text/html": [
       "<div>\n",
       "<style scoped>\n",
       "    .dataframe tbody tr th:only-of-type {\n",
       "        vertical-align: middle;\n",
       "    }\n",
       "\n",
       "    .dataframe tbody tr th {\n",
       "        vertical-align: top;\n",
       "    }\n",
       "\n",
       "    .dataframe thead th {\n",
       "        text-align: right;\n",
       "    }\n",
       "</style>\n",
       "<table border=\"1\" class=\"dataframe\">\n",
       "  <thead>\n",
       "    <tr style=\"text-align: right;\">\n",
       "      <th></th>\n",
       "      <th>Hotel_Address</th>\n",
       "      <th>Additional_Number_of_Scoring</th>\n",
       "      <th>Review_Date</th>\n",
       "      <th>Average_Score</th>\n",
       "      <th>Hotel_Name</th>\n",
       "      <th>Reviewer_Nationality</th>\n",
       "      <th>Negative_Review</th>\n",
       "      <th>Review_Total_Negative_Word_Counts</th>\n",
       "      <th>Total_Number_of_Reviews</th>\n",
       "      <th>Positive_Review</th>\n",
       "      <th>Review_Total_Positive_Word_Counts</th>\n",
       "      <th>Total_Number_of_Reviews_Reviewer_Has_Given</th>\n",
       "      <th>Reviewer_Score</th>\n",
       "      <th>Tags</th>\n",
       "      <th>days_since_review</th>\n",
       "      <th>lat</th>\n",
       "      <th>lng</th>\n",
       "    </tr>\n",
       "  </thead>\n",
       "  <tbody>\n",
       "    <tr>\n",
       "      <th>23703</th>\n",
       "      <td>100 110 Euston Road Camden London NW1 2AJ Unit...</td>\n",
       "      <td>728</td>\n",
       "      <td>2/25/2017</td>\n",
       "      <td>8.9</td>\n",
       "      <td>Pullman London St Pancras</td>\n",
       "      <td>China</td>\n",
       "      <td>none</td>\n",
       "      <td>2</td>\n",
       "      <td>3168</td>\n",
       "      <td>good location and super nice staff room is bi...</td>\n",
       "      <td>13</td>\n",
       "      <td>39</td>\n",
       "      <td>9.6</td>\n",
       "      <td>[' Business trip ', ' Solo traveler ', ' Class...</td>\n",
       "      <td>159 day</td>\n",
       "      <td>51.528677</td>\n",
       "      <td>-0.128349</td>\n",
       "    </tr>\n",
       "    <tr>\n",
       "      <th>23704</th>\n",
       "      <td>100 110 Euston Road Camden London NW1 2AJ Unit...</td>\n",
       "      <td>728</td>\n",
       "      <td>2/25/2017</td>\n",
       "      <td>8.9</td>\n",
       "      <td>Pullman London St Pancras</td>\n",
       "      <td>China</td>\n",
       "      <td>none</td>\n",
       "      <td>2</td>\n",
       "      <td>3168</td>\n",
       "      <td>good location and super nice staff room is bi...</td>\n",
       "      <td>13</td>\n",
       "      <td>39</td>\n",
       "      <td>9.6</td>\n",
       "      <td>[' Business trip ', ' Solo traveler ', ' Class...</td>\n",
       "      <td>159 day</td>\n",
       "      <td>51.528677</td>\n",
       "      <td>-0.128349</td>\n",
       "    </tr>\n",
       "  </tbody>\n",
       "</table>\n",
       "</div>"
      ],
      "text/plain": [
       "                                           Hotel_Address  \\\n",
       "23703  100 110 Euston Road Camden London NW1 2AJ Unit...   \n",
       "23704  100 110 Euston Road Camden London NW1 2AJ Unit...   \n",
       "\n",
       "       Additional_Number_of_Scoring Review_Date  Average_Score  \\\n",
       "23703                           728   2/25/2017            8.9   \n",
       "23704                           728   2/25/2017            8.9   \n",
       "\n",
       "                      Hotel_Name Reviewer_Nationality Negative_Review  \\\n",
       "23703  Pullman London St Pancras               China             none   \n",
       "23704  Pullman London St Pancras               China             none   \n",
       "\n",
       "       Review_Total_Negative_Word_Counts  Total_Number_of_Reviews  \\\n",
       "23703                                  2                     3168   \n",
       "23704                                  2                     3168   \n",
       "\n",
       "                                         Positive_Review  \\\n",
       "23703   good location and super nice staff room is bi...   \n",
       "23704   good location and super nice staff room is bi...   \n",
       "\n",
       "       Review_Total_Positive_Word_Counts  \\\n",
       "23703                                 13   \n",
       "23704                                 13   \n",
       "\n",
       "       Total_Number_of_Reviews_Reviewer_Has_Given  Reviewer_Score  \\\n",
       "23703                                          39             9.6   \n",
       "23704                                          39             9.6   \n",
       "\n",
       "                                                    Tags days_since_review  \\\n",
       "23703  [' Business trip ', ' Solo traveler ', ' Class...           159 day   \n",
       "23704  [' Business trip ', ' Solo traveler ', ' Class...           159 day   \n",
       "\n",
       "             lat       lng  \n",
       "23703  51.528677 -0.128349  \n",
       "23704  51.528677 -0.128349  "
      ]
     },
     "execution_count": 11,
     "metadata": {},
     "output_type": "execute_result"
    }
   ],
   "source": [
    "reviews[(reviews[\"Hotel_Name\"] == 'Pullman London St Pancras') & (reviews[\"Average_Score\"] == 8.9) & (reviews[\"Review_Date\"] == '2/25/2017')]"
   ]
  },
  {
   "cell_type": "markdown",
   "id": "c8d82d4f",
   "metadata": {},
   "source": [
    "These duplicate rows are not needed for our analysis so I will exclude them from the dataset moving forward:"
   ]
  },
  {
   "cell_type": "code",
   "execution_count": 12,
   "id": "c333833b",
   "metadata": {},
   "outputs": [
    {
     "data": {
      "text/plain": [
       "515212"
      ]
     },
     "execution_count": 12,
     "metadata": {},
     "output_type": "execute_result"
    }
   ],
   "source": [
    "# dropping duplicate rows\n",
    "reviews = reviews.drop(reviews[reviews.duplicated()].index, axis = 0)\n",
    "len(reviews)"
   ]
  },
  {
   "cell_type": "markdown",
   "id": "7c932c04",
   "metadata": {},
   "source": [
    "We are left with 515,212 rows of data. Next, I will look at the columns that have null values: "
   ]
  },
  {
   "cell_type": "code",
   "execution_count": 13,
   "id": "5c5f3165",
   "metadata": {},
   "outputs": [
    {
     "data": {
      "text/plain": [
       "Hotel_Address                                    0\n",
       "Additional_Number_of_Scoring                     0\n",
       "Review_Date                                      0\n",
       "Average_Score                                    0\n",
       "Hotel_Name                                       0\n",
       "Reviewer_Nationality                             0\n",
       "Negative_Review                                  0\n",
       "Review_Total_Negative_Word_Counts                0\n",
       "Total_Number_of_Reviews                          0\n",
       "Positive_Review                                  0\n",
       "Review_Total_Positive_Word_Counts                0\n",
       "Total_Number_of_Reviews_Reviewer_Has_Given       0\n",
       "Reviewer_Score                                   0\n",
       "Tags                                             0\n",
       "days_since_review                                0\n",
       "lat                                           3268\n",
       "lng                                           3268\n",
       "dtype: int64"
      ]
     },
     "execution_count": 13,
     "metadata": {},
     "output_type": "execute_result"
    }
   ],
   "source": [
    "reviews.isnull().sum()"
   ]
  },
  {
   "cell_type": "markdown",
   "id": "af040962",
   "metadata": {},
   "source": [
    "The latitude and longitude columns have 3,268 rows of null data. I do not think these columns are mandatory for our dataset since there are other columns which contain information about the geographical location of the hotels and the reviewers. Therefore, I will exclude these columns from the analysis moving forward."
   ]
  },
  {
   "cell_type": "code",
   "execution_count": 14,
   "id": "ee59c258",
   "metadata": {},
   "outputs": [],
   "source": [
    "reviews.drop(['lat','lng'], axis=1, inplace = True)"
   ]
  },
  {
   "cell_type": "markdown",
   "id": "8e764f0e",
   "metadata": {},
   "source": [
    "#### Q. 1b Convert Reviews from decimal to integer values"
   ]
  },
  {
   "cell_type": "code",
   "execution_count": 15,
   "id": "972f74a5",
   "metadata": {},
   "outputs": [
    {
     "data": {
      "text/plain": [
       "0    2.9\n",
       "1    7.5\n",
       "2    7.1\n",
       "3    3.8\n",
       "4    6.7\n",
       "Name: Reviewer_Score, dtype: float64"
      ]
     },
     "execution_count": 15,
     "metadata": {},
     "output_type": "execute_result"
    }
   ],
   "source": [
    "reviews[\"Reviewer_Score\"].head()"
   ]
  },
  {
   "cell_type": "markdown",
   "id": "784cff65",
   "metadata": {},
   "source": [
    "Taking a look at the 'Reviewer_Score' column above, we can see that the customer reviews were provided as decimal values. Those values will be converted to integer values for easier processing:"
   ]
  },
  {
   "cell_type": "code",
   "execution_count": 16,
   "id": "381c7916",
   "metadata": {},
   "outputs": [
    {
     "data": {
      "text/plain": [
       "0    3\n",
       "1    8\n",
       "2    7\n",
       "3    4\n",
       "4    7\n",
       "Name: Reviewer_Score, dtype: int64"
      ]
     },
     "execution_count": 16,
     "metadata": {},
     "output_type": "execute_result"
    }
   ],
   "source": [
    "reviews[\"Reviewer_Score\"] = (reviews[\"Reviewer_Score\"]).apply(lambda x: round(x))\n",
    "reviews[\"Reviewer_Score\"].head()"
   ]
  },
  {
   "cell_type": "code",
   "execution_count": 17,
   "id": "c8618b35",
   "metadata": {},
   "outputs": [
    {
     "data": {
      "text/plain": [
       "8.5"
      ]
     },
     "execution_count": 17,
     "metadata": {},
     "output_type": "execute_result"
    }
   ],
   "source": [
    "round(reviews[\"Reviewer_Score\"].mean(),1)"
   ]
  },
  {
   "cell_type": "markdown",
   "id": "84057893",
   "metadata": {},
   "source": [
    "The 'Reviewer_Score' column has been converted to integer values. The mean value of all reviewer scores is 8.5 which is quite high. We can take a further look at how the numeric columns are distributed below:"
   ]
  },
  {
   "cell_type": "code",
   "execution_count": 18,
   "id": "9c914307",
   "metadata": {},
   "outputs": [
    {
     "data": {
      "image/png": "[encoded data removed]",
      "text/plain": [
       "<Figure size 432x288 with 1 Axes>"
      ]
     },
     "metadata": {
      "needs_background": "light"
     },
     "output_type": "display_data"
    },
    {
     "data": {
      "image/png": "[encoded data removed]",
      "text/plain": [
       "<Figure size 432x288 with 1 Axes>"
      ]
     },
     "metadata": {
      "needs_background": "light"
     },
     "output_type": "display_data"
    },
    {
     "data": {
      "image/png": "[encoded data removed]",
      "text/plain": [
       "<Figure size 432x288 with 1 Axes>"
      ]
     },
     "metadata": {
      "needs_background": "light"
     },
     "output_type": "display_data"
    },
    {
     "data": {
      "image/png": "[encoded data removed]",
      "text/plain": [
       "<Figure size 432x288 with 1 Axes>"
      ]
     },
     "metadata": {
      "needs_background": "light"
     },
     "output_type": "display_data"
    },
    {
     "data": {
      "image/png": "[encoded data removed]",
      "text/plain": [
       "<Figure size 432x288 with 1 Axes>"
      ]
     },
     "metadata": {
      "needs_background": "light"
     },
     "output_type": "display_data"
    },
    {
     "data": {
      "image/png": "[encoded data removed]",
      "text/plain": [
       "<Figure size 432x288 with 1 Axes>"
      ]
     },
     "metadata": {
      "needs_background": "light"
     },
     "output_type": "display_data"
    },
    {
     "data": {
      "image/png": "[encoded data removed]",
      "text/plain": [
       "<Figure size 432x288 with 1 Axes>"
      ]
     },
     "metadata": {
      "needs_background": "light"
     },
     "output_type": "display_data"
    }
   ],
   "source": [
    "num_columns = reviews.select_dtypes('number').columns[:]\n",
    "\n",
    "for col in num_columns:\n",
    "#     plt.figure(figsize=(16, 8))\n",
    "    sns.histplot(x = reviews[col])\n",
    "    plt.axvline(reviews[col].mean(), color = \"red\", linestyle = '--')\n",
    "    plt.title('Distribution of '+ col + ' column')\n",
    "    plt.ylabel('Count')\n",
    "    plt.legend(labels = ['Mean Value', col])\n",
    "    plt.show()"
   ]
  },
  {
   "cell_type": "markdown",
   "id": "dbea8f18",
   "metadata": {},
   "source": [
    "#### Q. 1c - Distribution of Reviewer_Score"
   ]
  },
  {
   "cell_type": "markdown",
   "id": "10d2cc38",
   "metadata": {},
   "source": [
    "As seen in the histogram above, the data in the numeric columns are not normally distributed.\n",
    "\n",
    "More specifically, the distribution of the Reviewer_Score column is heavily skewed to the right. The dataset contains more positive/highly rated reviews as compared to negative/poor reviews. Given that the average Reviewer_Score was 8.5 which is quite high, this rightly skewed distribution was expected."
   ]
  },
  {
   "cell_type": "markdown",
   "id": "0a004dfc",
   "metadata": {},
   "source": [
    "#### Q. 1d Potential Problem"
   ]
  },
  {
   "cell_type": "markdown",
   "id": "3ec24633",
   "metadata": {},
   "source": [
    "Given that this will be a classification problem, there could be a potential problem with fact that the distribution of the Reviewer_Score column and other columns is not Normal. Sigmoid functions for the Logistic Regression model, and other ML models operate on the assumption of normally distributed data so this may pose some issues later on."
   ]
  },
  {
   "cell_type": "markdown",
   "id": "8e559f42",
   "metadata": {},
   "source": [
    "#### Q. 2 Selecting/Converting Columns"
   ]
  },
  {
   "cell_type": "markdown",
   "id": "c6d9056d",
   "metadata": {},
   "source": [
    "The dataset can be pruned further by extracting some useful information out of the existing columns. For example, some of the non-numeric columns can be converted to numeric columns."
   ]
  },
  {
   "cell_type": "markdown",
   "id": "970a865b",
   "metadata": {},
   "source": [
    "Looking at the summary description of the categorical columns below, we can see each column has a lot of unique values. We cannot simply encode each column because that would result in high dimensionality. Some alternative possible column manuipulations to perform before encoding include:\n",
    "- Extracting the number of days from the 'days_since_review' column\n",
    "- Extracting the country where the hotel is located from the 'Hotel Address' column\n",
    "- Extracting 'Reviewer Nationality'\n",
    "- Extracting key words from the 'Tags' column"
   ]
  },
  {
   "cell_type": "code",
   "execution_count": 19,
   "id": "71c595f9",
   "metadata": {},
   "outputs": [
    {
     "data": {
      "text/html": [
       "<div>\n",
       "<style scoped>\n",
       "    .dataframe tbody tr th:only-of-type {\n",
       "        vertical-align: middle;\n",
       "    }\n",
       "\n",
       "    .dataframe tbody tr th {\n",
       "        vertical-align: top;\n",
       "    }\n",
       "\n",
       "    .dataframe thead th {\n",
       "        text-align: right;\n",
       "    }\n",
       "</style>\n",
       "<table border=\"1\" class=\"dataframe\">\n",
       "  <thead>\n",
       "    <tr style=\"text-align: right;\">\n",
       "      <th></th>\n",
       "      <th>Hotel_Address</th>\n",
       "      <th>Review_Date</th>\n",
       "      <th>Hotel_Name</th>\n",
       "      <th>Reviewer_Nationality</th>\n",
       "      <th>Negative_Review</th>\n",
       "      <th>Positive_Review</th>\n",
       "      <th>Tags</th>\n",
       "      <th>days_since_review</th>\n",
       "    </tr>\n",
       "  </thead>\n",
       "  <tbody>\n",
       "    <tr>\n",
       "      <th>count</th>\n",
       "      <td>515212</td>\n",
       "      <td>515212</td>\n",
       "      <td>515212</td>\n",
       "      <td>515212</td>\n",
       "      <td>515212</td>\n",
       "      <td>515212</td>\n",
       "      <td>515212</td>\n",
       "      <td>515212</td>\n",
       "    </tr>\n",
       "    <tr>\n",
       "      <th>unique</th>\n",
       "      <td>1493</td>\n",
       "      <td>731</td>\n",
       "      <td>1492</td>\n",
       "      <td>227</td>\n",
       "      <td>330011</td>\n",
       "      <td>412601</td>\n",
       "      <td>55242</td>\n",
       "      <td>731</td>\n",
       "    </tr>\n",
       "    <tr>\n",
       "      <th>top</th>\n",
       "      <td>163 Marsh Wall Docklands Tower Hamlets London ...</td>\n",
       "      <td>8/2/2017</td>\n",
       "      <td>Britannia International Hotel Canary Wharf</td>\n",
       "      <td>United Kingdom</td>\n",
       "      <td>No Negative</td>\n",
       "      <td>No Positive</td>\n",
       "      <td>[' Leisure trip ', ' Couple ', ' Double Room '...</td>\n",
       "      <td>1 days</td>\n",
       "    </tr>\n",
       "    <tr>\n",
       "      <th>freq</th>\n",
       "      <td>4789</td>\n",
       "      <td>2584</td>\n",
       "      <td>4789</td>\n",
       "      <td>245110</td>\n",
       "      <td>127757</td>\n",
       "      <td>35904</td>\n",
       "      <td>5101</td>\n",
       "      <td>2584</td>\n",
       "    </tr>\n",
       "  </tbody>\n",
       "</table>\n",
       "</div>"
      ],
      "text/plain": [
       "                                            Hotel_Address Review_Date  \\\n",
       "count                                              515212      515212   \n",
       "unique                                               1493         731   \n",
       "top     163 Marsh Wall Docklands Tower Hamlets London ...    8/2/2017   \n",
       "freq                                                 4789        2584   \n",
       "\n",
       "                                        Hotel_Name Reviewer_Nationality  \\\n",
       "count                                       515212               515212   \n",
       "unique                                        1492                  227   \n",
       "top     Britannia International Hotel Canary Wharf      United Kingdom    \n",
       "freq                                          4789               245110   \n",
       "\n",
       "       Negative_Review Positive_Review  \\\n",
       "count           515212          515212   \n",
       "unique          330011          412601   \n",
       "top        No Negative     No Positive   \n",
       "freq            127757           35904   \n",
       "\n",
       "                                                     Tags days_since_review  \n",
       "count                                              515212            515212  \n",
       "unique                                              55242               731  \n",
       "top     [' Leisure trip ', ' Couple ', ' Double Room '...            1 days  \n",
       "freq                                                 5101              2584  "
      ]
     },
     "execution_count": 19,
     "metadata": {},
     "output_type": "execute_result"
    }
   ],
   "source": [
    "reviews.describe(include = \"object\")"
   ]
  },
  {
   "cell_type": "code",
   "execution_count": 20,
   "id": "ea3f0858",
   "metadata": {},
   "outputs": [
    {
     "data": {
      "text/html": [
       "<div>\n",
       "<style scoped>\n",
       "    .dataframe tbody tr th:only-of-type {\n",
       "        vertical-align: middle;\n",
       "    }\n",
       "\n",
       "    .dataframe tbody tr th {\n",
       "        vertical-align: top;\n",
       "    }\n",
       "\n",
       "    .dataframe thead th {\n",
       "        text-align: right;\n",
       "    }\n",
       "</style>\n",
       "<table border=\"1\" class=\"dataframe\">\n",
       "  <thead>\n",
       "    <tr style=\"text-align: right;\">\n",
       "      <th></th>\n",
       "      <th>Hotel_Address</th>\n",
       "      <th>Review_Date</th>\n",
       "      <th>Hotel_Name</th>\n",
       "      <th>Reviewer_Nationality</th>\n",
       "      <th>Negative_Review</th>\n",
       "      <th>Positive_Review</th>\n",
       "      <th>Tags</th>\n",
       "      <th>days_since_review</th>\n",
       "    </tr>\n",
       "  </thead>\n",
       "  <tbody>\n",
       "    <tr>\n",
       "      <th>0</th>\n",
       "      <td>s Gravesandestraat 55 Oost 1092 AA Amsterdam ...</td>\n",
       "      <td>8/3/2017</td>\n",
       "      <td>Hotel Arena</td>\n",
       "      <td>Russia</td>\n",
       "      <td>I am so angry that i made this post available...</td>\n",
       "      <td>Only the park outside of the hotel was beauti...</td>\n",
       "      <td>[' Leisure trip ', ' Couple ', ' Duplex Double...</td>\n",
       "      <td>0 days</td>\n",
       "    </tr>\n",
       "    <tr>\n",
       "      <th>1</th>\n",
       "      <td>s Gravesandestraat 55 Oost 1092 AA Amsterdam ...</td>\n",
       "      <td>8/3/2017</td>\n",
       "      <td>Hotel Arena</td>\n",
       "      <td>Ireland</td>\n",
       "      <td>No Negative</td>\n",
       "      <td>No real complaints the hotel was great great ...</td>\n",
       "      <td>[' Leisure trip ', ' Couple ', ' Duplex Double...</td>\n",
       "      <td>0 days</td>\n",
       "    </tr>\n",
       "    <tr>\n",
       "      <th>2</th>\n",
       "      <td>s Gravesandestraat 55 Oost 1092 AA Amsterdam ...</td>\n",
       "      <td>7/31/2017</td>\n",
       "      <td>Hotel Arena</td>\n",
       "      <td>Australia</td>\n",
       "      <td>Rooms are nice but for elderly a bit difficul...</td>\n",
       "      <td>Location was good and staff were ok It is cut...</td>\n",
       "      <td>[' Leisure trip ', ' Family with young childre...</td>\n",
       "      <td>3 days</td>\n",
       "    </tr>\n",
       "  </tbody>\n",
       "</table>\n",
       "</div>"
      ],
      "text/plain": [
       "                                       Hotel_Address Review_Date   Hotel_Name  \\\n",
       "0   s Gravesandestraat 55 Oost 1092 AA Amsterdam ...    8/3/2017  Hotel Arena   \n",
       "1   s Gravesandestraat 55 Oost 1092 AA Amsterdam ...    8/3/2017  Hotel Arena   \n",
       "2   s Gravesandestraat 55 Oost 1092 AA Amsterdam ...   7/31/2017  Hotel Arena   \n",
       "\n",
       "  Reviewer_Nationality                                    Negative_Review  \\\n",
       "0              Russia    I am so angry that i made this post available...   \n",
       "1             Ireland                                         No Negative   \n",
       "2           Australia    Rooms are nice but for elderly a bit difficul...   \n",
       "\n",
       "                                     Positive_Review  \\\n",
       "0   Only the park outside of the hotel was beauti...   \n",
       "1   No real complaints the hotel was great great ...   \n",
       "2   Location was good and staff were ok It is cut...   \n",
       "\n",
       "                                                Tags days_since_review  \n",
       "0  [' Leisure trip ', ' Couple ', ' Duplex Double...            0 days  \n",
       "1  [' Leisure trip ', ' Couple ', ' Duplex Double...            0 days  \n",
       "2  [' Leisure trip ', ' Family with young childre...            3 days  "
      ]
     },
     "execution_count": 20,
     "metadata": {},
     "output_type": "execute_result"
    }
   ],
   "source": [
    "reviews[categ_columns].head(3)"
   ]
  },
  {
   "cell_type": "markdown",
   "id": "2cbc45d5",
   "metadata": {},
   "source": [
    "## Data Wrangling"
   ]
  },
  {
   "cell_type": "markdown",
   "id": "d08c2876",
   "metadata": {},
   "source": [
    "#### Q. 3a Convert the Reviewer_Score column into a binary column"
   ]
  },
  {
   "cell_type": "markdown",
   "id": "3176df78",
   "metadata": {},
   "source": [
    "To easily classify the reviews as either good or bad, we can create a new binary column called 'Sentiment'. The review sentiment will be classified as 'good' if Reviewer_Score is greater than or equal to 9, and 'bad' otherwise."
   ]
  },
  {
   "cell_type": "code",
   "execution_count": 21,
   "id": "724810e6",
   "metadata": {},
   "outputs": [
    {
     "data": {
      "text/html": [
       "<div>\n",
       "<style scoped>\n",
       "    .dataframe tbody tr th:only-of-type {\n",
       "        vertical-align: middle;\n",
       "    }\n",
       "\n",
       "    .dataframe tbody tr th {\n",
       "        vertical-align: top;\n",
       "    }\n",
       "\n",
       "    .dataframe thead th {\n",
       "        text-align: right;\n",
       "    }\n",
       "</style>\n",
       "<table border=\"1\" class=\"dataframe\">\n",
       "  <thead>\n",
       "    <tr style=\"text-align: right;\">\n",
       "      <th></th>\n",
       "      <th>Hotel_Address</th>\n",
       "      <th>Additional_Number_of_Scoring</th>\n",
       "      <th>Review_Date</th>\n",
       "      <th>Average_Score</th>\n",
       "      <th>Hotel_Name</th>\n",
       "      <th>Reviewer_Nationality</th>\n",
       "      <th>Negative_Review</th>\n",
       "      <th>Review_Total_Negative_Word_Counts</th>\n",
       "      <th>Total_Number_of_Reviews</th>\n",
       "      <th>Positive_Review</th>\n",
       "      <th>Review_Total_Positive_Word_Counts</th>\n",
       "      <th>Total_Number_of_Reviews_Reviewer_Has_Given</th>\n",
       "      <th>Reviewer_Score</th>\n",
       "      <th>Tags</th>\n",
       "      <th>days_since_review</th>\n",
       "      <th>Sentiment</th>\n",
       "    </tr>\n",
       "  </thead>\n",
       "  <tbody>\n",
       "    <tr>\n",
       "      <th>0</th>\n",
       "      <td>s Gravesandestraat 55 Oost 1092 AA Amsterdam ...</td>\n",
       "      <td>194</td>\n",
       "      <td>8/3/2017</td>\n",
       "      <td>7.7</td>\n",
       "      <td>Hotel Arena</td>\n",
       "      <td>Russia</td>\n",
       "      <td>I am so angry that i made this post available...</td>\n",
       "      <td>397</td>\n",
       "      <td>1403</td>\n",
       "      <td>Only the park outside of the hotel was beauti...</td>\n",
       "      <td>11</td>\n",
       "      <td>7</td>\n",
       "      <td>3</td>\n",
       "      <td>[' Leisure trip ', ' Couple ', ' Duplex Double...</td>\n",
       "      <td>0 days</td>\n",
       "      <td>0</td>\n",
       "    </tr>\n",
       "    <tr>\n",
       "      <th>1</th>\n",
       "      <td>s Gravesandestraat 55 Oost 1092 AA Amsterdam ...</td>\n",
       "      <td>194</td>\n",
       "      <td>8/3/2017</td>\n",
       "      <td>7.7</td>\n",
       "      <td>Hotel Arena</td>\n",
       "      <td>Ireland</td>\n",
       "      <td>No Negative</td>\n",
       "      <td>0</td>\n",
       "      <td>1403</td>\n",
       "      <td>No real complaints the hotel was great great ...</td>\n",
       "      <td>105</td>\n",
       "      <td>7</td>\n",
       "      <td>8</td>\n",
       "      <td>[' Leisure trip ', ' Couple ', ' Duplex Double...</td>\n",
       "      <td>0 days</td>\n",
       "      <td>0</td>\n",
       "    </tr>\n",
       "    <tr>\n",
       "      <th>2</th>\n",
       "      <td>s Gravesandestraat 55 Oost 1092 AA Amsterdam ...</td>\n",
       "      <td>194</td>\n",
       "      <td>7/31/2017</td>\n",
       "      <td>7.7</td>\n",
       "      <td>Hotel Arena</td>\n",
       "      <td>Australia</td>\n",
       "      <td>Rooms are nice but for elderly a bit difficul...</td>\n",
       "      <td>42</td>\n",
       "      <td>1403</td>\n",
       "      <td>Location was good and staff were ok It is cut...</td>\n",
       "      <td>21</td>\n",
       "      <td>9</td>\n",
       "      <td>7</td>\n",
       "      <td>[' Leisure trip ', ' Family with young childre...</td>\n",
       "      <td>3 days</td>\n",
       "      <td>0</td>\n",
       "    </tr>\n",
       "  </tbody>\n",
       "</table>\n",
       "</div>"
      ],
      "text/plain": [
       "                                       Hotel_Address  \\\n",
       "0   s Gravesandestraat 55 Oost 1092 AA Amsterdam ...   \n",
       "1   s Gravesandestraat 55 Oost 1092 AA Amsterdam ...   \n",
       "2   s Gravesandestraat 55 Oost 1092 AA Amsterdam ...   \n",
       "\n",
       "   Additional_Number_of_Scoring Review_Date  Average_Score   Hotel_Name  \\\n",
       "0                           194    8/3/2017            7.7  Hotel Arena   \n",
       "1                           194    8/3/2017            7.7  Hotel Arena   \n",
       "2                           194   7/31/2017            7.7  Hotel Arena   \n",
       "\n",
       "  Reviewer_Nationality                                    Negative_Review  \\\n",
       "0              Russia    I am so angry that i made this post available...   \n",
       "1             Ireland                                         No Negative   \n",
       "2           Australia    Rooms are nice but for elderly a bit difficul...   \n",
       "\n",
       "   Review_Total_Negative_Word_Counts  Total_Number_of_Reviews  \\\n",
       "0                                397                     1403   \n",
       "1                                  0                     1403   \n",
       "2                                 42                     1403   \n",
       "\n",
       "                                     Positive_Review  \\\n",
       "0   Only the park outside of the hotel was beauti...   \n",
       "1   No real complaints the hotel was great great ...   \n",
       "2   Location was good and staff were ok It is cut...   \n",
       "\n",
       "   Review_Total_Positive_Word_Counts  \\\n",
       "0                                 11   \n",
       "1                                105   \n",
       "2                                 21   \n",
       "\n",
       "   Total_Number_of_Reviews_Reviewer_Has_Given  Reviewer_Score  \\\n",
       "0                                           7               3   \n",
       "1                                           7               8   \n",
       "2                                           9               7   \n",
       "\n",
       "                                                Tags days_since_review  \\\n",
       "0  [' Leisure trip ', ' Couple ', ' Duplex Double...            0 days   \n",
       "1  [' Leisure trip ', ' Couple ', ' Duplex Double...            0 days   \n",
       "2  [' Leisure trip ', ' Family with young childre...            3 days   \n",
       "\n",
       "   Sentiment  \n",
       "0          0  \n",
       "1          0  \n",
       "2          0  "
      ]
     },
     "execution_count": 21,
     "metadata": {},
     "output_type": "execute_result"
    }
   ],
   "source": [
    "reviews['Sentiment'] = np.where(reviews['Reviewer_Score'] >= 9, 1, 0)\n",
    "reviews.head(3)"
   ]
  },
  {
   "cell_type": "markdown",
   "id": "0a73d90a",
   "metadata": {},
   "source": [
    "We can also look at the breakdown of 'good' vs 'bad' reviews within this dataset as shown below:"
   ]
  },
  {
   "cell_type": "code",
   "execution_count": 22,
   "id": "d09e3118",
   "metadata": {},
   "outputs": [
    {
     "data": {
      "image/png": "[encoded data removed]",
      "text/plain": [
       "<Figure size 432x288 with 1 Axes>"
      ]
     },
     "metadata": {
      "needs_background": "light"
     },
     "output_type": "display_data"
    },
    {
     "name": "stdout",
     "output_type": "stream",
     "text": [
      "The dataset contains 43.0 % of negative reviews &  57.0 % of positive reviews\n"
     ]
    }
   ],
   "source": [
    "values, counts = np.unique(reviews['Sentiment'], return_counts=True)\n",
    "normalized_counts = counts/counts.sum()\n",
    "\n",
    "plt.barh([\"Bad - 0\", \"Good - 1\"], normalized_counts*100)\n",
    "plt.xlabel('% Distribution')\n",
    "plt.ylabel('Class ')\n",
    "plt.title('Distribution of Sentiment Column')\n",
    "plt.show()\n",
    "\n",
    "print(\"The dataset contains\", round(normalized_counts[0]*100,0), \"% of negative reviews & \", round(normalized_counts[1]*100,0), \"% of positive reviews\")"
   ]
  },
  {
   "cell_type": "markdown",
   "id": "f8524d02",
   "metadata": {},
   "source": [
    "This dataset contains 43% of reviews with reviewer_score below 9, while 57% scored above that. Although, the dataset does not contain an equal amount of 'good' and 'bad' reviews, the class imbalance is not large.\n",
    "\n",
    "To reduce the computation power required to process the entire dataset, I will continue testing with only 10% of the dataset moving forward:"
   ]
  },
  {
   "cell_type": "code",
   "execution_count": 23,
   "id": "8181d8c0",
   "metadata": {},
   "outputs": [
    {
     "name": "stdout",
     "output_type": "stream",
     "text": [
      "<class 'pandas.core.frame.DataFrame'>\n",
      "Int64Index: 51521 entries, 65550 to 336084\n",
      "Data columns (total 16 columns):\n",
      " #   Column                                      Non-Null Count  Dtype  \n",
      "---  ------                                      --------------  -----  \n",
      " 0   Hotel_Address                               51521 non-null  object \n",
      " 1   Additional_Number_of_Scoring                51521 non-null  int64  \n",
      " 2   Review_Date                                 51521 non-null  object \n",
      " 3   Average_Score                               51521 non-null  float64\n",
      " 4   Hotel_Name                                  51521 non-null  object \n",
      " 5   Reviewer_Nationality                        51521 non-null  object \n",
      " 6   Negative_Review                             51521 non-null  object \n",
      " 7   Review_Total_Negative_Word_Counts           51521 non-null  int64  \n",
      " 8   Total_Number_of_Reviews                     51521 non-null  int64  \n",
      " 9   Positive_Review                             51521 non-null  object \n",
      " 10  Review_Total_Positive_Word_Counts           51521 non-null  int64  \n",
      " 11  Total_Number_of_Reviews_Reviewer_Has_Given  51521 non-null  int64  \n",
      " 12  Reviewer_Score                              51521 non-null  int64  \n",
      " 13  Tags                                        51521 non-null  object \n",
      " 14  days_since_review                           51521 non-null  object \n",
      " 15  Sentiment                                   51521 non-null  int64  \n",
      "dtypes: float64(1), int64(7), object(8)\n",
      "memory usage: 6.7+ MB\n"
     ]
    }
   ],
   "source": [
    "# Using the train_test_split function to sample 10% of the the data\n",
    "from sklearn.model_selection import train_test_split\n",
    "\n",
    "# Separating the features (X) and the target variable (y)\n",
    "X = reviews.drop(['Sentiment'], axis=1)\n",
    "y = reviews['Sentiment']\n",
    "\n",
    "\n",
    "# Performing stratified sampling\n",
    "X_sample, _, y_sample, _ = train_test_split(X, y, train_size=0.1, random_state=42, stratify=y)\n",
    "\n",
    "# Combining the sampled features and target variable into a new DataFrame\n",
    "sampled_reviews = pd.concat([X_sample, y_sample], axis=1)\n",
    "sampled_reviews.info()"
   ]
  },
  {
   "cell_type": "code",
   "execution_count": 24,
   "id": "7d742767",
   "metadata": {},
   "outputs": [
    {
     "data": {
      "image/png": "[encoded data removed]",
      "text/plain": [
       "<Figure size 432x288 with 1 Axes>"
      ]
     },
     "metadata": {
      "needs_background": "light"
     },
     "output_type": "display_data"
    },
    {
     "name": "stdout",
     "output_type": "stream",
     "text": [
      "The dataset stil contains 43.0 % of negative reviews &  57.0 % of positive reviews after sampling.\n"
     ]
    }
   ],
   "source": [
    "values, counts = np.unique(sampled_reviews['Sentiment'], return_counts=True)\n",
    "normalized_counts = counts/counts.sum()\n",
    "\n",
    "# plot normalized distribution after sampling\n",
    "plt.barh([\"Bad - 0\", \"Good - 1\"], normalized_counts*100)\n",
    "plt.xlabel('% Distribution')\n",
    "plt.ylabel('Class ')\n",
    "plt.title('Distribution of Sentiment Column Post Sampling')\n",
    "plt.show()\n",
    "\n",
    "print(\"The dataset stil contains\", round(normalized_counts[0]*100,0), \"% of negative reviews & \", round(normalized_counts[1]*100,0), \"% of positive reviews after sampling.\")"
   ]
  },
  {
   "cell_type": "markdown",
   "id": "a294b2a6",
   "metadata": {},
   "source": [
    "#### Q 3b. Convert non-numeric columns to numeric columns"
   ]
  },
  {
   "cell_type": "markdown",
   "id": "38f9932d",
   "metadata": {},
   "source": [
    "##### The 'days_since_review' Column"
   ]
  },
  {
   "cell_type": "markdown",
   "id": "629b23ec",
   "metadata": {},
   "source": [
    "- First, I will extract the number of days from the days_since_review column:"
   ]
  },
  {
   "cell_type": "code",
   "execution_count": 25,
   "id": "34bd8007",
   "metadata": {},
   "outputs": [],
   "source": [
    "sampled_reviews.reset_index(inplace = True)"
   ]
  },
  {
   "cell_type": "code",
   "execution_count": 26,
   "id": "2d3b0c69",
   "metadata": {},
   "outputs": [
    {
     "data": {
      "text/html": [
       "<div>\n",
       "<style scoped>\n",
       "    .dataframe tbody tr th:only-of-type {\n",
       "        vertical-align: middle;\n",
       "    }\n",
       "\n",
       "    .dataframe tbody tr th {\n",
       "        vertical-align: top;\n",
       "    }\n",
       "\n",
       "    .dataframe thead th {\n",
       "        text-align: right;\n",
       "    }\n",
       "</style>\n",
       "<table border=\"1\" class=\"dataframe\">\n",
       "  <thead>\n",
       "    <tr style=\"text-align: right;\">\n",
       "      <th></th>\n",
       "      <th>index</th>\n",
       "      <th>Hotel_Address</th>\n",
       "      <th>Additional_Number_of_Scoring</th>\n",
       "      <th>Review_Date</th>\n",
       "      <th>Average_Score</th>\n",
       "      <th>Hotel_Name</th>\n",
       "      <th>Reviewer_Nationality</th>\n",
       "      <th>Negative_Review</th>\n",
       "      <th>Review_Total_Negative_Word_Counts</th>\n",
       "      <th>Total_Number_of_Reviews</th>\n",
       "      <th>Positive_Review</th>\n",
       "      <th>Review_Total_Positive_Word_Counts</th>\n",
       "      <th>Total_Number_of_Reviews_Reviewer_Has_Given</th>\n",
       "      <th>Reviewer_Score</th>\n",
       "      <th>Tags</th>\n",
       "      <th>days_since_review</th>\n",
       "      <th>Sentiment</th>\n",
       "    </tr>\n",
       "  </thead>\n",
       "  <tbody>\n",
       "    <tr>\n",
       "      <th>0</th>\n",
       "      <td>65550</td>\n",
       "      <td>163 Marsh Wall Docklands Tower Hamlets London ...</td>\n",
       "      <td>2682</td>\n",
       "      <td>12/20/2015</td>\n",
       "      <td>7.1</td>\n",
       "      <td>Britannia International Hotel Canary Wharf</td>\n",
       "      <td>United Kingdom</td>\n",
       "      <td>Horrible decor and rooms showing their age pe...</td>\n",
       "      <td>28</td>\n",
       "      <td>9086</td>\n",
       "      <td>Good location for Canary Wharf Good price for...</td>\n",
       "      <td>13</td>\n",
       "      <td>4</td>\n",
       "      <td>5</td>\n",
       "      <td>[' Leisure trip ', ' Solo traveler ', ' Standa...</td>\n",
       "      <td>592 day</td>\n",
       "      <td>0</td>\n",
       "    </tr>\n",
       "    <tr>\n",
       "      <th>1</th>\n",
       "      <td>138681</td>\n",
       "      <td>30 Barkston Gardens Kensington and Chelsea Lon...</td>\n",
       "      <td>137</td>\n",
       "      <td>8/18/2015</td>\n",
       "      <td>8.6</td>\n",
       "      <td>Henley House Hotel</td>\n",
       "      <td>United States of America</td>\n",
       "      <td>Only one electrical outlet two plugs per room...</td>\n",
       "      <td>17</td>\n",
       "      <td>1179</td>\n",
       "      <td>Very friendly and helpful service Great locat...</td>\n",
       "      <td>12</td>\n",
       "      <td>1</td>\n",
       "      <td>10</td>\n",
       "      <td>[' Leisure trip ', ' Group ', ' Deluxe Twin Ro...</td>\n",
       "      <td>716 day</td>\n",
       "      <td>1</td>\n",
       "    </tr>\n",
       "    <tr>\n",
       "      <th>2</th>\n",
       "      <td>407854</td>\n",
       "      <td>Piazza Giuseppe Missori 1 Milan City Center 20...</td>\n",
       "      <td>301</td>\n",
       "      <td>7/14/2016</td>\n",
       "      <td>8.4</td>\n",
       "      <td>Hotel Dei Cavalieri</td>\n",
       "      <td>United Kingdom</td>\n",
       "      <td>Breakfast buffet was not very good quality ro...</td>\n",
       "      <td>14</td>\n",
       "      <td>3445</td>\n",
       "      <td>The hotel was easy to find by car and a great...</td>\n",
       "      <td>21</td>\n",
       "      <td>1</td>\n",
       "      <td>8</td>\n",
       "      <td>[' Leisure trip ', ' Family with older childre...</td>\n",
       "      <td>385 day</td>\n",
       "      <td>0</td>\n",
       "    </tr>\n",
       "  </tbody>\n",
       "</table>\n",
       "</div>"
      ],
      "text/plain": [
       "    index                                      Hotel_Address  \\\n",
       "0   65550  163 Marsh Wall Docklands Tower Hamlets London ...   \n",
       "1  138681  30 Barkston Gardens Kensington and Chelsea Lon...   \n",
       "2  407854  Piazza Giuseppe Missori 1 Milan City Center 20...   \n",
       "\n",
       "   Additional_Number_of_Scoring Review_Date  Average_Score  \\\n",
       "0                          2682  12/20/2015            7.1   \n",
       "1                           137   8/18/2015            8.6   \n",
       "2                           301   7/14/2016            8.4   \n",
       "\n",
       "                                   Hotel_Name        Reviewer_Nationality  \\\n",
       "0  Britannia International Hotel Canary Wharf             United Kingdom    \n",
       "1                          Henley House Hotel   United States of America    \n",
       "2                         Hotel Dei Cavalieri             United Kingdom    \n",
       "\n",
       "                                     Negative_Review  \\\n",
       "0   Horrible decor and rooms showing their age pe...   \n",
       "1   Only one electrical outlet two plugs per room...   \n",
       "2   Breakfast buffet was not very good quality ro...   \n",
       "\n",
       "   Review_Total_Negative_Word_Counts  Total_Number_of_Reviews  \\\n",
       "0                                 28                     9086   \n",
       "1                                 17                     1179   \n",
       "2                                 14                     3445   \n",
       "\n",
       "                                     Positive_Review  \\\n",
       "0   Good location for Canary Wharf Good price for...   \n",
       "1   Very friendly and helpful service Great locat...   \n",
       "2   The hotel was easy to find by car and a great...   \n",
       "\n",
       "   Review_Total_Positive_Word_Counts  \\\n",
       "0                                 13   \n",
       "1                                 12   \n",
       "2                                 21   \n",
       "\n",
       "   Total_Number_of_Reviews_Reviewer_Has_Given  Reviewer_Score  \\\n",
       "0                                           4               5   \n",
       "1                                           1              10   \n",
       "2                                           1               8   \n",
       "\n",
       "                                                Tags days_since_review  \\\n",
       "0  [' Leisure trip ', ' Solo traveler ', ' Standa...           592 day   \n",
       "1  [' Leisure trip ', ' Group ', ' Deluxe Twin Ro...           716 day   \n",
       "2  [' Leisure trip ', ' Family with older childre...           385 day   \n",
       "\n",
       "   Sentiment  \n",
       "0          0  \n",
       "1          1  \n",
       "2          0  "
      ]
     },
     "execution_count": 26,
     "metadata": {},
     "output_type": "execute_result"
    }
   ],
   "source": [
    "sampled_reviews.head(3)"
   ]
  },
  {
   "cell_type": "code",
   "execution_count": 27,
   "id": "af9efd2c",
   "metadata": {},
   "outputs": [],
   "source": [
    "# The days_since_review column can be convereted to an integer as shown below:\n",
    "\n",
    "sampled_reviews['days_since_review'] = (sampled_reviews[\"days_since_review\"]).apply(lambda x: int(x.split(' ')[0]))"
   ]
  },
  {
   "cell_type": "code",
   "execution_count": 28,
   "id": "3cffae1d",
   "metadata": {},
   "outputs": [
    {
     "data": {
      "text/html": [
       "<div>\n",
       "<style scoped>\n",
       "    .dataframe tbody tr th:only-of-type {\n",
       "        vertical-align: middle;\n",
       "    }\n",
       "\n",
       "    .dataframe tbody tr th {\n",
       "        vertical-align: top;\n",
       "    }\n",
       "\n",
       "    .dataframe thead th {\n",
       "        text-align: right;\n",
       "    }\n",
       "</style>\n",
       "<table border=\"1\" class=\"dataframe\">\n",
       "  <thead>\n",
       "    <tr style=\"text-align: right;\">\n",
       "      <th></th>\n",
       "      <th>index</th>\n",
       "      <th>Hotel_Address</th>\n",
       "      <th>Additional_Number_of_Scoring</th>\n",
       "      <th>Review_Date</th>\n",
       "      <th>Average_Score</th>\n",
       "      <th>Hotel_Name</th>\n",
       "      <th>Reviewer_Nationality</th>\n",
       "      <th>Negative_Review</th>\n",
       "      <th>Review_Total_Negative_Word_Counts</th>\n",
       "      <th>Total_Number_of_Reviews</th>\n",
       "      <th>Positive_Review</th>\n",
       "      <th>Review_Total_Positive_Word_Counts</th>\n",
       "      <th>Total_Number_of_Reviews_Reviewer_Has_Given</th>\n",
       "      <th>Reviewer_Score</th>\n",
       "      <th>Tags</th>\n",
       "      <th>days_since_review</th>\n",
       "      <th>Sentiment</th>\n",
       "    </tr>\n",
       "  </thead>\n",
       "  <tbody>\n",
       "    <tr>\n",
       "      <th>0</th>\n",
       "      <td>65550</td>\n",
       "      <td>163 Marsh Wall Docklands Tower Hamlets London ...</td>\n",
       "      <td>2682</td>\n",
       "      <td>12/20/2015</td>\n",
       "      <td>7.1</td>\n",
       "      <td>Britannia International Hotel Canary Wharf</td>\n",
       "      <td>United Kingdom</td>\n",
       "      <td>Horrible decor and rooms showing their age pe...</td>\n",
       "      <td>28</td>\n",
       "      <td>9086</td>\n",
       "      <td>Good location for Canary Wharf Good price for...</td>\n",
       "      <td>13</td>\n",
       "      <td>4</td>\n",
       "      <td>5</td>\n",
       "      <td>[' Leisure trip ', ' Solo traveler ', ' Standa...</td>\n",
       "      <td>592</td>\n",
       "      <td>0</td>\n",
       "    </tr>\n",
       "    <tr>\n",
       "      <th>1</th>\n",
       "      <td>138681</td>\n",
       "      <td>30 Barkston Gardens Kensington and Chelsea Lon...</td>\n",
       "      <td>137</td>\n",
       "      <td>8/18/2015</td>\n",
       "      <td>8.6</td>\n",
       "      <td>Henley House Hotel</td>\n",
       "      <td>United States of America</td>\n",
       "      <td>Only one electrical outlet two plugs per room...</td>\n",
       "      <td>17</td>\n",
       "      <td>1179</td>\n",
       "      <td>Very friendly and helpful service Great locat...</td>\n",
       "      <td>12</td>\n",
       "      <td>1</td>\n",
       "      <td>10</td>\n",
       "      <td>[' Leisure trip ', ' Group ', ' Deluxe Twin Ro...</td>\n",
       "      <td>716</td>\n",
       "      <td>1</td>\n",
       "    </tr>\n",
       "    <tr>\n",
       "      <th>2</th>\n",
       "      <td>407854</td>\n",
       "      <td>Piazza Giuseppe Missori 1 Milan City Center 20...</td>\n",
       "      <td>301</td>\n",
       "      <td>7/14/2016</td>\n",
       "      <td>8.4</td>\n",
       "      <td>Hotel Dei Cavalieri</td>\n",
       "      <td>United Kingdom</td>\n",
       "      <td>Breakfast buffet was not very good quality ro...</td>\n",
       "      <td>14</td>\n",
       "      <td>3445</td>\n",
       "      <td>The hotel was easy to find by car and a great...</td>\n",
       "      <td>21</td>\n",
       "      <td>1</td>\n",
       "      <td>8</td>\n",
       "      <td>[' Leisure trip ', ' Family with older childre...</td>\n",
       "      <td>385</td>\n",
       "      <td>0</td>\n",
       "    </tr>\n",
       "  </tbody>\n",
       "</table>\n",
       "</div>"
      ],
      "text/plain": [
       "    index                                      Hotel_Address  \\\n",
       "0   65550  163 Marsh Wall Docklands Tower Hamlets London ...   \n",
       "1  138681  30 Barkston Gardens Kensington and Chelsea Lon...   \n",
       "2  407854  Piazza Giuseppe Missori 1 Milan City Center 20...   \n",
       "\n",
       "   Additional_Number_of_Scoring Review_Date  Average_Score  \\\n",
       "0                          2682  12/20/2015            7.1   \n",
       "1                           137   8/18/2015            8.6   \n",
       "2                           301   7/14/2016            8.4   \n",
       "\n",
       "                                   Hotel_Name        Reviewer_Nationality  \\\n",
       "0  Britannia International Hotel Canary Wharf             United Kingdom    \n",
       "1                          Henley House Hotel   United States of America    \n",
       "2                         Hotel Dei Cavalieri             United Kingdom    \n",
       "\n",
       "                                     Negative_Review  \\\n",
       "0   Horrible decor and rooms showing their age pe...   \n",
       "1   Only one electrical outlet two plugs per room...   \n",
       "2   Breakfast buffet was not very good quality ro...   \n",
       "\n",
       "   Review_Total_Negative_Word_Counts  Total_Number_of_Reviews  \\\n",
       "0                                 28                     9086   \n",
       "1                                 17                     1179   \n",
       "2                                 14                     3445   \n",
       "\n",
       "                                     Positive_Review  \\\n",
       "0   Good location for Canary Wharf Good price for...   \n",
       "1   Very friendly and helpful service Great locat...   \n",
       "2   The hotel was easy to find by car and a great...   \n",
       "\n",
       "   Review_Total_Positive_Word_Counts  \\\n",
       "0                                 13   \n",
       "1                                 12   \n",
       "2                                 21   \n",
       "\n",
       "   Total_Number_of_Reviews_Reviewer_Has_Given  Reviewer_Score  \\\n",
       "0                                           4               5   \n",
       "1                                           1              10   \n",
       "2                                           1               8   \n",
       "\n",
       "                                                Tags  days_since_review  \\\n",
       "0  [' Leisure trip ', ' Solo traveler ', ' Standa...                592   \n",
       "1  [' Leisure trip ', ' Group ', ' Deluxe Twin Ro...                716   \n",
       "2  [' Leisure trip ', ' Family with older childre...                385   \n",
       "\n",
       "   Sentiment  \n",
       "0          0  \n",
       "1          1  \n",
       "2          0  "
      ]
     },
     "execution_count": 28,
     "metadata": {},
     "output_type": "execute_result"
    }
   ],
   "source": [
    "sampled_reviews.head(3)"
   ]
  },
  {
   "cell_type": "code",
   "execution_count": 29,
   "id": "55c13f01",
   "metadata": {},
   "outputs": [
    {
     "data": {
      "text/plain": [
       "count    51521.000000\n",
       "mean       354.677821\n",
       "std        209.095474\n",
       "min          0.000000\n",
       "25%        175.000000\n",
       "50%        352.000000\n",
       "75%        528.000000\n",
       "max        730.000000\n",
       "Name: days_since_review, dtype: float64"
      ]
     },
     "execution_count": 29,
     "metadata": {},
     "output_type": "execute_result"
    }
   ],
   "source": [
    "sampled_reviews['days_since_review'].describe()"
   ]
  },
  {
   "cell_type": "markdown",
   "id": "ac5c684d",
   "metadata": {},
   "source": [
    "##### The 'Hotel_Address' Column"
   ]
  },
  {
   "cell_type": "markdown",
   "id": "03d5935f",
   "metadata": {},
   "source": [
    "- Next, We can also extract the location of the hotels from the 'Hotel_Address' column as shown below:"
   ]
  },
  {
   "cell_type": "code",
   "execution_count": 30,
   "id": "d3956e24",
   "metadata": {},
   "outputs": [
    {
     "data": {
      "text/plain": [
       "array(['Kingdom', 'Italy', 'Austria', 'Spain', 'France', 'Netherlands'],\n",
       "      dtype=object)"
      ]
     },
     "execution_count": 30,
     "metadata": {},
     "output_type": "execute_result"
    }
   ],
   "source": [
    "locations = []\n",
    "for i in range (0, len(sampled_reviews)):\n",
    "    strings = sampled_reviews['Hotel_Address'][i].split(' ')\n",
    "    locations.append(strings[-1])\n",
    "\n",
    "sampled_reviews['Country'] = pd.DataFrame(locations)\n",
    "sampled_reviews['Country'].unique()"
   ]
  },
  {
   "cell_type": "markdown",
   "id": "d04c9325",
   "metadata": {},
   "source": [
    "We can see from above that the hotels in our dataset are located in only 6 unique countries including: UK, Italy, Austria, Spain, France and Netherlands. We can create dummy varaibles from these countries as shown below:"
   ]
  },
  {
   "cell_type": "code",
   "execution_count": 31,
   "id": "014bbe48",
   "metadata": {},
   "outputs": [
    {
     "data": {
      "text/html": [
       "<div>\n",
       "<style scoped>\n",
       "    .dataframe tbody tr th:only-of-type {\n",
       "        vertical-align: middle;\n",
       "    }\n",
       "\n",
       "    .dataframe tbody tr th {\n",
       "        vertical-align: top;\n",
       "    }\n",
       "\n",
       "    .dataframe thead th {\n",
       "        text-align: right;\n",
       "    }\n",
       "</style>\n",
       "<table border=\"1\" class=\"dataframe\">\n",
       "  <thead>\n",
       "    <tr style=\"text-align: right;\">\n",
       "      <th></th>\n",
       "      <th>index</th>\n",
       "      <th>Hotel_Address</th>\n",
       "      <th>Additional_Number_of_Scoring</th>\n",
       "      <th>Review_Date</th>\n",
       "      <th>Average_Score</th>\n",
       "      <th>Hotel_Name</th>\n",
       "      <th>Reviewer_Nationality</th>\n",
       "      <th>Negative_Review</th>\n",
       "      <th>Review_Total_Negative_Word_Counts</th>\n",
       "      <th>Total_Number_of_Reviews</th>\n",
       "      <th>...</th>\n",
       "      <th>Tags</th>\n",
       "      <th>days_since_review</th>\n",
       "      <th>Sentiment</th>\n",
       "      <th>Country</th>\n",
       "      <th>Hotel_In_Austria</th>\n",
       "      <th>Hotel_In_France</th>\n",
       "      <th>Hotel_In_Italy</th>\n",
       "      <th>Hotel_In_Kingdom</th>\n",
       "      <th>Hotel_In_Netherlands</th>\n",
       "      <th>Hotel_In_Spain</th>\n",
       "    </tr>\n",
       "  </thead>\n",
       "  <tbody>\n",
       "    <tr>\n",
       "      <th>0</th>\n",
       "      <td>65550</td>\n",
       "      <td>163 Marsh Wall Docklands Tower Hamlets London ...</td>\n",
       "      <td>2682</td>\n",
       "      <td>12/20/2015</td>\n",
       "      <td>7.1</td>\n",
       "      <td>Britannia International Hotel Canary Wharf</td>\n",
       "      <td>United Kingdom</td>\n",
       "      <td>Horrible decor and rooms showing their age pe...</td>\n",
       "      <td>28</td>\n",
       "      <td>9086</td>\n",
       "      <td>...</td>\n",
       "      <td>[' Leisure trip ', ' Solo traveler ', ' Standa...</td>\n",
       "      <td>592</td>\n",
       "      <td>0</td>\n",
       "      <td>Kingdom</td>\n",
       "      <td>0</td>\n",
       "      <td>0</td>\n",
       "      <td>0</td>\n",
       "      <td>1</td>\n",
       "      <td>0</td>\n",
       "      <td>0</td>\n",
       "    </tr>\n",
       "    <tr>\n",
       "      <th>1</th>\n",
       "      <td>138681</td>\n",
       "      <td>30 Barkston Gardens Kensington and Chelsea Lon...</td>\n",
       "      <td>137</td>\n",
       "      <td>8/18/2015</td>\n",
       "      <td>8.6</td>\n",
       "      <td>Henley House Hotel</td>\n",
       "      <td>United States of America</td>\n",
       "      <td>Only one electrical outlet two plugs per room...</td>\n",
       "      <td>17</td>\n",
       "      <td>1179</td>\n",
       "      <td>...</td>\n",
       "      <td>[' Leisure trip ', ' Group ', ' Deluxe Twin Ro...</td>\n",
       "      <td>716</td>\n",
       "      <td>1</td>\n",
       "      <td>Kingdom</td>\n",
       "      <td>0</td>\n",
       "      <td>0</td>\n",
       "      <td>0</td>\n",
       "      <td>1</td>\n",
       "      <td>0</td>\n",
       "      <td>0</td>\n",
       "    </tr>\n",
       "  </tbody>\n",
       "</table>\n",
       "<p>2 rows × 24 columns</p>\n",
       "</div>"
      ],
      "text/plain": [
       "    index                                      Hotel_Address  \\\n",
       "0   65550  163 Marsh Wall Docklands Tower Hamlets London ...   \n",
       "1  138681  30 Barkston Gardens Kensington and Chelsea Lon...   \n",
       "\n",
       "   Additional_Number_of_Scoring Review_Date  Average_Score  \\\n",
       "0                          2682  12/20/2015            7.1   \n",
       "1                           137   8/18/2015            8.6   \n",
       "\n",
       "                                   Hotel_Name        Reviewer_Nationality  \\\n",
       "0  Britannia International Hotel Canary Wharf             United Kingdom    \n",
       "1                          Henley House Hotel   United States of America    \n",
       "\n",
       "                                     Negative_Review  \\\n",
       "0   Horrible decor and rooms showing their age pe...   \n",
       "1   Only one electrical outlet two plugs per room...   \n",
       "\n",
       "   Review_Total_Negative_Word_Counts  Total_Number_of_Reviews  ...  \\\n",
       "0                                 28                     9086  ...   \n",
       "1                                 17                     1179  ...   \n",
       "\n",
       "                                                Tags  days_since_review  \\\n",
       "0  [' Leisure trip ', ' Solo traveler ', ' Standa...                592   \n",
       "1  [' Leisure trip ', ' Group ', ' Deluxe Twin Ro...                716   \n",
       "\n",
       "   Sentiment  Country Hotel_In_Austria  Hotel_In_France  Hotel_In_Italy  \\\n",
       "0          0  Kingdom                0                0               0   \n",
       "1          1  Kingdom                0                0               0   \n",
       "\n",
       "  Hotel_In_Kingdom  Hotel_In_Netherlands  Hotel_In_Spain  \n",
       "0                1                     0               0  \n",
       "1                1                     0               0  \n",
       "\n",
       "[2 rows x 24 columns]"
      ]
     },
     "execution_count": 31,
     "metadata": {},
     "output_type": "execute_result"
    }
   ],
   "source": [
    "# Create dummy variables from the Country column and drop one dummmy variable\n",
    "\n",
    "dummy_df = pd.get_dummies(sampled_reviews['Country'])\n",
    "\n",
    "\n",
    "new_columns=[]\n",
    "\n",
    "for i in range(0, len(dummy_df.columns)):\n",
    "    new_columns.append('Hotel_In_' + dummy_df.columns[i])\n",
    "\n",
    "dummy_df.columns = new_columns\n",
    "dummy_df.head()\n",
    "\n",
    "# Combine the original DataFrame with the dummy variables\n",
    "\n",
    "sampled_reviews = pd.concat((sampled_reviews, dummy_df), axis=1)\n",
    "\n",
    "sampled_reviews.head(2)"
   ]
  },
  {
   "cell_type": "code",
   "execution_count": 32,
   "id": "ded193f0",
   "metadata": {},
   "outputs": [
    {
     "data": {
      "text/html": [
       "<div>\n",
       "<style scoped>\n",
       "    .dataframe tbody tr th:only-of-type {\n",
       "        vertical-align: middle;\n",
       "    }\n",
       "\n",
       "    .dataframe tbody tr th {\n",
       "        vertical-align: top;\n",
       "    }\n",
       "\n",
       "    .dataframe thead th {\n",
       "        text-align: right;\n",
       "    }\n",
       "</style>\n",
       "<table border=\"1\" class=\"dataframe\">\n",
       "  <thead>\n",
       "    <tr style=\"text-align: right;\">\n",
       "      <th></th>\n",
       "      <th>index</th>\n",
       "      <th>Hotel_Address</th>\n",
       "      <th>Additional_Number_of_Scoring</th>\n",
       "      <th>Review_Date</th>\n",
       "      <th>Average_Score</th>\n",
       "      <th>Hotel_Name</th>\n",
       "      <th>Reviewer_Nationality</th>\n",
       "      <th>Negative_Review</th>\n",
       "      <th>Review_Total_Negative_Word_Counts</th>\n",
       "      <th>Total_Number_of_Reviews</th>\n",
       "      <th>...</th>\n",
       "      <th>Total_Number_of_Reviews_Reviewer_Has_Given</th>\n",
       "      <th>Reviewer_Score</th>\n",
       "      <th>Tags</th>\n",
       "      <th>days_since_review</th>\n",
       "      <th>Sentiment</th>\n",
       "      <th>Hotel_In_France</th>\n",
       "      <th>Hotel_In_Italy</th>\n",
       "      <th>Hotel_In_Kingdom</th>\n",
       "      <th>Hotel_In_Netherlands</th>\n",
       "      <th>Hotel_In_Spain</th>\n",
       "    </tr>\n",
       "  </thead>\n",
       "  <tbody>\n",
       "    <tr>\n",
       "      <th>0</th>\n",
       "      <td>65550</td>\n",
       "      <td>163 Marsh Wall Docklands Tower Hamlets London ...</td>\n",
       "      <td>2682</td>\n",
       "      <td>12/20/2015</td>\n",
       "      <td>7.1</td>\n",
       "      <td>Britannia International Hotel Canary Wharf</td>\n",
       "      <td>United Kingdom</td>\n",
       "      <td>Horrible decor and rooms showing their age pe...</td>\n",
       "      <td>28</td>\n",
       "      <td>9086</td>\n",
       "      <td>...</td>\n",
       "      <td>4</td>\n",
       "      <td>5</td>\n",
       "      <td>[' Leisure trip ', ' Solo traveler ', ' Standa...</td>\n",
       "      <td>592</td>\n",
       "      <td>0</td>\n",
       "      <td>0</td>\n",
       "      <td>0</td>\n",
       "      <td>1</td>\n",
       "      <td>0</td>\n",
       "      <td>0</td>\n",
       "    </tr>\n",
       "    <tr>\n",
       "      <th>1</th>\n",
       "      <td>138681</td>\n",
       "      <td>30 Barkston Gardens Kensington and Chelsea Lon...</td>\n",
       "      <td>137</td>\n",
       "      <td>8/18/2015</td>\n",
       "      <td>8.6</td>\n",
       "      <td>Henley House Hotel</td>\n",
       "      <td>United States of America</td>\n",
       "      <td>Only one electrical outlet two plugs per room...</td>\n",
       "      <td>17</td>\n",
       "      <td>1179</td>\n",
       "      <td>...</td>\n",
       "      <td>1</td>\n",
       "      <td>10</td>\n",
       "      <td>[' Leisure trip ', ' Group ', ' Deluxe Twin Ro...</td>\n",
       "      <td>716</td>\n",
       "      <td>1</td>\n",
       "      <td>0</td>\n",
       "      <td>0</td>\n",
       "      <td>1</td>\n",
       "      <td>0</td>\n",
       "      <td>0</td>\n",
       "    </tr>\n",
       "  </tbody>\n",
       "</table>\n",
       "<p>2 rows × 22 columns</p>\n",
       "</div>"
      ],
      "text/plain": [
       "    index                                      Hotel_Address  \\\n",
       "0   65550  163 Marsh Wall Docklands Tower Hamlets London ...   \n",
       "1  138681  30 Barkston Gardens Kensington and Chelsea Lon...   \n",
       "\n",
       "   Additional_Number_of_Scoring Review_Date  Average_Score  \\\n",
       "0                          2682  12/20/2015            7.1   \n",
       "1                           137   8/18/2015            8.6   \n",
       "\n",
       "                                   Hotel_Name        Reviewer_Nationality  \\\n",
       "0  Britannia International Hotel Canary Wharf             United Kingdom    \n",
       "1                          Henley House Hotel   United States of America    \n",
       "\n",
       "                                     Negative_Review  \\\n",
       "0   Horrible decor and rooms showing their age pe...   \n",
       "1   Only one electrical outlet two plugs per room...   \n",
       "\n",
       "   Review_Total_Negative_Word_Counts  Total_Number_of_Reviews  ...  \\\n",
       "0                                 28                     9086  ...   \n",
       "1                                 17                     1179  ...   \n",
       "\n",
       "  Total_Number_of_Reviews_Reviewer_Has_Given  Reviewer_Score  \\\n",
       "0                                          4               5   \n",
       "1                                          1              10   \n",
       "\n",
       "                                                Tags  days_since_review  \\\n",
       "0  [' Leisure trip ', ' Solo traveler ', ' Standa...                592   \n",
       "1  [' Leisure trip ', ' Group ', ' Deluxe Twin Ro...                716   \n",
       "\n",
       "  Sentiment  Hotel_In_France  Hotel_In_Italy  Hotel_In_Kingdom  \\\n",
       "0         0                0               0                 1   \n",
       "1         1                0               0                 1   \n",
       "\n",
       "   Hotel_In_Netherlands  Hotel_In_Spain  \n",
       "0                     0               0  \n",
       "1                     0               0  \n",
       "\n",
       "[2 rows x 22 columns]"
      ]
     },
     "execution_count": 32,
     "metadata": {},
     "output_type": "execute_result"
    }
   ],
   "source": [
    "# To avoid multicolinearity between the dummy variables created above, we will drop one of the countries\n",
    "\n",
    "sampled_reviews.drop(['Country', 'Hotel_In_Austria'], axis = 1, inplace = True)\n",
    "\n",
    "sampled_reviews.head(2)"
   ]
  },
  {
   "cell_type": "markdown",
   "id": "72f0997b",
   "metadata": {},
   "source": [
    "##### The 'Reviewer_Nationality' Column"
   ]
  },
  {
   "cell_type": "markdown",
   "id": "20192824",
   "metadata": {},
   "source": [
    "- Next, we can extract some useful information from the Reviewer_Nationality column."
   ]
  },
  {
   "cell_type": "code",
   "execution_count": 33,
   "id": "0d29681c",
   "metadata": {},
   "outputs": [
    {
     "data": {
      "text/html": [
       "<div>\n",
       "<style scoped>\n",
       "    .dataframe tbody tr th:only-of-type {\n",
       "        vertical-align: middle;\n",
       "    }\n",
       "\n",
       "    .dataframe tbody tr th {\n",
       "        vertical-align: top;\n",
       "    }\n",
       "\n",
       "    .dataframe thead th {\n",
       "        text-align: right;\n",
       "    }\n",
       "</style>\n",
       "<table border=\"1\" class=\"dataframe\">\n",
       "  <thead>\n",
       "    <tr style=\"text-align: right;\">\n",
       "      <th></th>\n",
       "      <th>Reviewer_Country</th>\n",
       "      <th>Counts</th>\n",
       "      <th>Percent of Dataset</th>\n",
       "    </tr>\n",
       "  </thead>\n",
       "  <tbody>\n",
       "    <tr>\n",
       "      <th>161</th>\n",
       "      <td>United Kingdom</td>\n",
       "      <td>24542</td>\n",
       "      <td>48.0</td>\n",
       "    </tr>\n",
       "    <tr>\n",
       "      <th>163</th>\n",
       "      <td>United States of America</td>\n",
       "      <td>3540</td>\n",
       "      <td>7.0</td>\n",
       "    </tr>\n",
       "    <tr>\n",
       "      <th>11</th>\n",
       "      <td>Australia</td>\n",
       "      <td>2172</td>\n",
       "      <td>4.0</td>\n",
       "    </tr>\n",
       "    <tr>\n",
       "      <th>72</th>\n",
       "      <td>Ireland</td>\n",
       "      <td>1461</td>\n",
       "      <td>3.0</td>\n",
       "    </tr>\n",
       "    <tr>\n",
       "      <th>160</th>\n",
       "      <td>United Arab Emirates</td>\n",
       "      <td>1038</td>\n",
       "      <td>2.0</td>\n",
       "    </tr>\n",
       "    <tr>\n",
       "      <th>111</th>\n",
       "      <td>Netherlands</td>\n",
       "      <td>901</td>\n",
       "      <td>2.0</td>\n",
       "    </tr>\n",
       "    <tr>\n",
       "      <th>148</th>\n",
       "      <td>Switzerland</td>\n",
       "      <td>868</td>\n",
       "      <td>2.0</td>\n",
       "    </tr>\n",
       "    <tr>\n",
       "      <th>130</th>\n",
       "      <td>Saudi Arabia</td>\n",
       "      <td>849</td>\n",
       "      <td>2.0</td>\n",
       "    </tr>\n",
       "    <tr>\n",
       "      <th>56</th>\n",
       "      <td>Germany</td>\n",
       "      <td>790</td>\n",
       "      <td>2.0</td>\n",
       "    </tr>\n",
       "    <tr>\n",
       "      <th>32</th>\n",
       "      <td>Canada</td>\n",
       "      <td>762</td>\n",
       "      <td>1.0</td>\n",
       "    </tr>\n",
       "  </tbody>\n",
       "</table>\n",
       "</div>"
      ],
      "text/plain": [
       "               Reviewer_Country  Counts  Percent of Dataset\n",
       "161             United Kingdom    24542                48.0\n",
       "163   United States of America     3540                 7.0\n",
       "11                   Australia     2172                 4.0\n",
       "72                     Ireland     1461                 3.0\n",
       "160       United Arab Emirates     1038                 2.0\n",
       "111                Netherlands      901                 2.0\n",
       "148                Switzerland      868                 2.0\n",
       "130               Saudi Arabia      849                 2.0\n",
       "56                     Germany      790                 2.0\n",
       "32                      Canada      762                 1.0"
      ]
     },
     "execution_count": 33,
     "metadata": {},
     "output_type": "execute_result"
    }
   ],
   "source": [
    "values, counts = np.unique(sampled_reviews['Reviewer_Nationality'], return_counts=True)\n",
    "\n",
    "df = pd.DataFrame(data = values, columns = ['Reviewer_Country'])\n",
    "df['Counts'] = counts\n",
    "df['Percent of Dataset'] = round(df['Counts']/(df['Counts'].sum())*100,0)\n",
    "df.sort_values('Counts', ascending=False).head(10)"
   ]
  },
  {
   "cell_type": "markdown",
   "id": "ce7c71f2",
   "metadata": {},
   "source": [
    "As seen from above, majority of the reviewers are from UK, USA and Australia. For all Reviewer_Country with less than 2% occurence within the data, they will be classified as 'Other'. We can then create dummy variables from these columns:"
   ]
  },
  {
   "cell_type": "code",
   "execution_count": 34,
   "id": "5f8774e5",
   "metadata": {},
   "outputs": [],
   "source": [
    "keep_countries = [' United Kingdom ', ' United States of America ', ' Australia ', ' Ireland ', ' United Arab Emirates ',\n",
    "                  ' Netherlands ', ' Switzerland ', ' Saudi Arabia ', ' Germany ']"
   ]
  },
  {
   "cell_type": "code",
   "execution_count": 35,
   "id": "951eaa1c",
   "metadata": {},
   "outputs": [
    {
     "data": {
      "text/plain": [
       "True"
      ]
     },
     "execution_count": 35,
     "metadata": {},
     "output_type": "execute_result"
    }
   ],
   "source": [
    "sampled_reviews['Reviewer_Nationality'][0] in keep_countries"
   ]
  },
  {
   "cell_type": "code",
   "execution_count": 36,
   "id": "926ed91c",
   "metadata": {},
   "outputs": [
    {
     "data": {
      "text/plain": [
       "array([' United Kingdom ', ' United States of America ', 'Other',\n",
       "       ' Saudi Arabia ', ' Ireland ', ' United Arab Emirates ',\n",
       "       ' Germany ', ' Australia ', ' Switzerland ', ' Netherlands '],\n",
       "      dtype=object)"
      ]
     },
     "execution_count": 36,
     "metadata": {},
     "output_type": "execute_result"
    }
   ],
   "source": [
    "# Replace Reviewer_Nationality with 'Other' if they are not one of the previously identified top countries\n",
    "\n",
    "for i in range(0, len(sampled_reviews)):\n",
    "    if sampled_reviews['Reviewer_Nationality'][i] in keep_countries:\n",
    "        pass\n",
    "    else:\n",
    "        sampled_reviews['Reviewer_Nationality'][i] = 'Other'\n",
    "\n",
    "sampled_reviews['Reviewer_Nationality'].unique()"
   ]
  },
  {
   "cell_type": "code",
   "execution_count": 37,
   "id": "bacc24bb",
   "metadata": {},
   "outputs": [
    {
     "data": {
      "text/html": [
       "<div>\n",
       "<style scoped>\n",
       "    .dataframe tbody tr th:only-of-type {\n",
       "        vertical-align: middle;\n",
       "    }\n",
       "\n",
       "    .dataframe tbody tr th {\n",
       "        vertical-align: top;\n",
       "    }\n",
       "\n",
       "    .dataframe thead th {\n",
       "        text-align: right;\n",
       "    }\n",
       "</style>\n",
       "<table border=\"1\" class=\"dataframe\">\n",
       "  <thead>\n",
       "    <tr style=\"text-align: right;\">\n",
       "      <th></th>\n",
       "      <th>Reviewer_from_ Australia</th>\n",
       "      <th>Reviewer_from_ Germany</th>\n",
       "      <th>Reviewer_from_ Ireland</th>\n",
       "      <th>Reviewer_from_ Netherlands</th>\n",
       "      <th>Reviewer_from_ Saudi Arabia</th>\n",
       "      <th>Reviewer_from_ Switzerland</th>\n",
       "      <th>Reviewer_from_ United Arab Emirates</th>\n",
       "      <th>Reviewer_from_ United Kingdom</th>\n",
       "      <th>Reviewer_from_ United States of America</th>\n",
       "      <th>Reviewer_from_Other</th>\n",
       "    </tr>\n",
       "  </thead>\n",
       "  <tbody>\n",
       "    <tr>\n",
       "      <th>0</th>\n",
       "      <td>0</td>\n",
       "      <td>0</td>\n",
       "      <td>0</td>\n",
       "      <td>0</td>\n",
       "      <td>0</td>\n",
       "      <td>0</td>\n",
       "      <td>0</td>\n",
       "      <td>1</td>\n",
       "      <td>0</td>\n",
       "      <td>0</td>\n",
       "    </tr>\n",
       "    <tr>\n",
       "      <th>1</th>\n",
       "      <td>0</td>\n",
       "      <td>0</td>\n",
       "      <td>0</td>\n",
       "      <td>0</td>\n",
       "      <td>0</td>\n",
       "      <td>0</td>\n",
       "      <td>0</td>\n",
       "      <td>0</td>\n",
       "      <td>1</td>\n",
       "      <td>0</td>\n",
       "    </tr>\n",
       "    <tr>\n",
       "      <th>2</th>\n",
       "      <td>0</td>\n",
       "      <td>0</td>\n",
       "      <td>0</td>\n",
       "      <td>0</td>\n",
       "      <td>0</td>\n",
       "      <td>0</td>\n",
       "      <td>0</td>\n",
       "      <td>1</td>\n",
       "      <td>0</td>\n",
       "      <td>0</td>\n",
       "    </tr>\n",
       "    <tr>\n",
       "      <th>3</th>\n",
       "      <td>0</td>\n",
       "      <td>0</td>\n",
       "      <td>0</td>\n",
       "      <td>0</td>\n",
       "      <td>0</td>\n",
       "      <td>0</td>\n",
       "      <td>0</td>\n",
       "      <td>1</td>\n",
       "      <td>0</td>\n",
       "      <td>0</td>\n",
       "    </tr>\n",
       "    <tr>\n",
       "      <th>4</th>\n",
       "      <td>0</td>\n",
       "      <td>0</td>\n",
       "      <td>0</td>\n",
       "      <td>0</td>\n",
       "      <td>0</td>\n",
       "      <td>0</td>\n",
       "      <td>0</td>\n",
       "      <td>1</td>\n",
       "      <td>0</td>\n",
       "      <td>0</td>\n",
       "    </tr>\n",
       "  </tbody>\n",
       "</table>\n",
       "</div>"
      ],
      "text/plain": [
       "   Reviewer_from_ Australia   Reviewer_from_ Germany   \\\n",
       "0                          0                        0   \n",
       "1                          0                        0   \n",
       "2                          0                        0   \n",
       "3                          0                        0   \n",
       "4                          0                        0   \n",
       "\n",
       "   Reviewer_from_ Ireland   Reviewer_from_ Netherlands   \\\n",
       "0                        0                            0   \n",
       "1                        0                            0   \n",
       "2                        0                            0   \n",
       "3                        0                            0   \n",
       "4                        0                            0   \n",
       "\n",
       "   Reviewer_from_ Saudi Arabia   Reviewer_from_ Switzerland   \\\n",
       "0                             0                            0   \n",
       "1                             0                            0   \n",
       "2                             0                            0   \n",
       "3                             0                            0   \n",
       "4                             0                            0   \n",
       "\n",
       "   Reviewer_from_ United Arab Emirates   Reviewer_from_ United Kingdom   \\\n",
       "0                                     0                               1   \n",
       "1                                     0                               0   \n",
       "2                                     0                               1   \n",
       "3                                     0                               1   \n",
       "4                                     0                               1   \n",
       "\n",
       "   Reviewer_from_ United States of America   Reviewer_from_Other  \n",
       "0                                         0                    0  \n",
       "1                                         1                    0  \n",
       "2                                         0                    0  \n",
       "3                                         0                    0  \n",
       "4                                         0                    0  "
      ]
     },
     "execution_count": 37,
     "metadata": {},
     "output_type": "execute_result"
    }
   ],
   "source": [
    "#  creating dummy variables from the Reviewer_Nationality column\n",
    "\n",
    "dummy_df = pd.get_dummies(sampled_reviews['Reviewer_Nationality'])\n",
    "\n",
    "new_columns=[]\n",
    "\n",
    "for i in range(0, len(dummy_df.columns)):\n",
    "    new_columns.append('Reviewer_from_' + dummy_df.columns[i])\n",
    "\n",
    "dummy_df.columns = new_columns\n",
    "dummy_df.head()"
   ]
  },
  {
   "cell_type": "code",
   "execution_count": 38,
   "id": "3e978e23",
   "metadata": {},
   "outputs": [
    {
     "data": {
      "text/html": [
       "<div>\n",
       "<style scoped>\n",
       "    .dataframe tbody tr th:only-of-type {\n",
       "        vertical-align: middle;\n",
       "    }\n",
       "\n",
       "    .dataframe tbody tr th {\n",
       "        vertical-align: top;\n",
       "    }\n",
       "\n",
       "    .dataframe thead th {\n",
       "        text-align: right;\n",
       "    }\n",
       "</style>\n",
       "<table border=\"1\" class=\"dataframe\">\n",
       "  <thead>\n",
       "    <tr style=\"text-align: right;\">\n",
       "      <th></th>\n",
       "      <th>index</th>\n",
       "      <th>Hotel_Address</th>\n",
       "      <th>Additional_Number_of_Scoring</th>\n",
       "      <th>Review_Date</th>\n",
       "      <th>Average_Score</th>\n",
       "      <th>Hotel_Name</th>\n",
       "      <th>Negative_Review</th>\n",
       "      <th>Review_Total_Negative_Word_Counts</th>\n",
       "      <th>Total_Number_of_Reviews</th>\n",
       "      <th>Positive_Review</th>\n",
       "      <th>...</th>\n",
       "      <th>Hotel_In_Spain</th>\n",
       "      <th>Reviewer_from_ Australia</th>\n",
       "      <th>Reviewer_from_ Germany</th>\n",
       "      <th>Reviewer_from_ Ireland</th>\n",
       "      <th>Reviewer_from_ Netherlands</th>\n",
       "      <th>Reviewer_from_ Saudi Arabia</th>\n",
       "      <th>Reviewer_from_ Switzerland</th>\n",
       "      <th>Reviewer_from_ United Arab Emirates</th>\n",
       "      <th>Reviewer_from_ United Kingdom</th>\n",
       "      <th>Reviewer_from_ United States of America</th>\n",
       "    </tr>\n",
       "  </thead>\n",
       "  <tbody>\n",
       "    <tr>\n",
       "      <th>0</th>\n",
       "      <td>65550</td>\n",
       "      <td>163 Marsh Wall Docklands Tower Hamlets London ...</td>\n",
       "      <td>2682</td>\n",
       "      <td>12/20/2015</td>\n",
       "      <td>7.1</td>\n",
       "      <td>Britannia International Hotel Canary Wharf</td>\n",
       "      <td>Horrible decor and rooms showing their age pe...</td>\n",
       "      <td>28</td>\n",
       "      <td>9086</td>\n",
       "      <td>Good location for Canary Wharf Good price for...</td>\n",
       "      <td>...</td>\n",
       "      <td>0</td>\n",
       "      <td>0</td>\n",
       "      <td>0</td>\n",
       "      <td>0</td>\n",
       "      <td>0</td>\n",
       "      <td>0</td>\n",
       "      <td>0</td>\n",
       "      <td>0</td>\n",
       "      <td>1</td>\n",
       "      <td>0</td>\n",
       "    </tr>\n",
       "    <tr>\n",
       "      <th>1</th>\n",
       "      <td>138681</td>\n",
       "      <td>30 Barkston Gardens Kensington and Chelsea Lon...</td>\n",
       "      <td>137</td>\n",
       "      <td>8/18/2015</td>\n",
       "      <td>8.6</td>\n",
       "      <td>Henley House Hotel</td>\n",
       "      <td>Only one electrical outlet two plugs per room...</td>\n",
       "      <td>17</td>\n",
       "      <td>1179</td>\n",
       "      <td>Very friendly and helpful service Great locat...</td>\n",
       "      <td>...</td>\n",
       "      <td>0</td>\n",
       "      <td>0</td>\n",
       "      <td>0</td>\n",
       "      <td>0</td>\n",
       "      <td>0</td>\n",
       "      <td>0</td>\n",
       "      <td>0</td>\n",
       "      <td>0</td>\n",
       "      <td>0</td>\n",
       "      <td>1</td>\n",
       "    </tr>\n",
       "  </tbody>\n",
       "</table>\n",
       "<p>2 rows × 30 columns</p>\n",
       "</div>"
      ],
      "text/plain": [
       "    index                                      Hotel_Address  \\\n",
       "0   65550  163 Marsh Wall Docklands Tower Hamlets London ...   \n",
       "1  138681  30 Barkston Gardens Kensington and Chelsea Lon...   \n",
       "\n",
       "   Additional_Number_of_Scoring Review_Date  Average_Score  \\\n",
       "0                          2682  12/20/2015            7.1   \n",
       "1                           137   8/18/2015            8.6   \n",
       "\n",
       "                                   Hotel_Name  \\\n",
       "0  Britannia International Hotel Canary Wharf   \n",
       "1                          Henley House Hotel   \n",
       "\n",
       "                                     Negative_Review  \\\n",
       "0   Horrible decor and rooms showing their age pe...   \n",
       "1   Only one electrical outlet two plugs per room...   \n",
       "\n",
       "   Review_Total_Negative_Word_Counts  Total_Number_of_Reviews  \\\n",
       "0                                 28                     9086   \n",
       "1                                 17                     1179   \n",
       "\n",
       "                                     Positive_Review  ...  Hotel_In_Spain  \\\n",
       "0   Good location for Canary Wharf Good price for...  ...               0   \n",
       "1   Very friendly and helpful service Great locat...  ...               0   \n",
       "\n",
       "   Reviewer_from_ Australia   Reviewer_from_ Germany  Reviewer_from_ Ireland   \\\n",
       "0                          0                        0                       0   \n",
       "1                          0                        0                       0   \n",
       "\n",
       "   Reviewer_from_ Netherlands   Reviewer_from_ Saudi Arabia   \\\n",
       "0                            0                             0   \n",
       "1                            0                             0   \n",
       "\n",
       "   Reviewer_from_ Switzerland   Reviewer_from_ United Arab Emirates   \\\n",
       "0                            0                                     0   \n",
       "1                            0                                     0   \n",
       "\n",
       "   Reviewer_from_ United Kingdom   Reviewer_from_ United States of America   \n",
       "0                               1                                         0  \n",
       "1                               0                                         1  \n",
       "\n",
       "[2 rows x 30 columns]"
      ]
     },
     "execution_count": 38,
     "metadata": {},
     "output_type": "execute_result"
    }
   ],
   "source": [
    "# Combine the original DataFrame with the dummy variables\n",
    "\n",
    "sampled_reviews = pd.concat((sampled_reviews, dummy_df), axis=1)\n",
    "\n",
    "# To avoid multicolinearity between the dummy variables created above, we will drop one of the countries\n",
    "\n",
    "sampled_reviews.drop(['Reviewer_Nationality', 'Reviewer_from_Other'], axis = 1, inplace = True)\n",
    "\n",
    "sampled_reviews.head(2)"
   ]
  },
  {
   "cell_type": "markdown",
   "id": "1e618899",
   "metadata": {},
   "source": [
    "##### The 'Tags' Column"
   ]
  },
  {
   "cell_type": "markdown",
   "id": "997dabf4",
   "metadata": {},
   "source": [
    "Lastly, I will explore the 'Tags' column to see if there is a way to extract some useful numeric information:"
   ]
  },
  {
   "cell_type": "code",
   "execution_count": 39,
   "id": "3d17ebf2",
   "metadata": {},
   "outputs": [
    {
     "data": {
      "text/plain": [
       "\"' Leisure trip ' ' Solo traveler ' ' Standard Single Room ' ' Stayed 1 night '\""
      ]
     },
     "execution_count": 39,
     "metadata": {},
     "output_type": "execute_result"
    }
   ],
   "source": [
    "# Looking at the tags in the first row excluding the special characters except ','\n",
    "\n",
    "import re\n",
    "\n",
    "string = sampled_reviews['Tags'][0]\n",
    "cleaned_string = re.sub(r\"[^\\w\\s']\", \"\", string)\n",
    "cleaned_string"
   ]
  },
  {
   "cell_type": "markdown",
   "id": "50999d05",
   "metadata": {},
   "source": [
    "The different tags in the 'Tags' column seem to explain different aspects of the reviewer's trip including:\n",
    "\n",
    "- Trip type\n",
    "- Amount of travellers\n",
    "- Room type\n",
    "- Trip duration\n",
    "- and more\n",
    "\n",
    "I will try to drill more into the total number of unique tags to see if it is possible to group them into smaller categories before encoding."
   ]
  },
  {
   "cell_type": "code",
   "execution_count": 40,
   "id": "9758cde5",
   "metadata": {},
   "outputs": [],
   "source": [
    "import ast\n",
    "\n",
    "# Creating an empty dictionary to store the tag counts of each unique tag\n",
    "\n",
    "tag_counts = {}\n",
    "\n",
    "# Iterating over the 'Tags' column and count the occurrences of each tag\n",
    "\n",
    "for tags in sampled_reviews['Tags']:\n",
    "    tags_list = ast.literal_eval(tags)  # Convert the string representation to a list\n",
    "    for tag in tags_list:\n",
    "        if tag in tag_counts:\n",
    "            tag_counts[tag] += 1\n",
    "        else:\n",
    "            tag_counts[tag] = 1\n",
    "\n",
    "# Creating a DataFrame from the tag counts dictionary and sorting by counts in descending order\n",
    "\n",
    "df_tag_counts = pd.DataFrame(list(tag_counts.items()), columns=['Tag', 'Count'])\n",
    "df_tag_counts = df_tag_counts.sort_values('Count', ascending=False)\n",
    "df_tag_counts = df_tag_counts.reset_index(drop=True)"
   ]
  },
  {
   "cell_type": "code",
   "execution_count": 41,
   "id": "7751e0eb",
   "metadata": {},
   "outputs": [
    {
     "data": {
      "text/plain": [
       "1650"
      ]
     },
     "execution_count": 41,
     "metadata": {},
     "output_type": "execute_result"
    }
   ],
   "source": [
    "len(df_tag_counts)"
   ]
  },
  {
   "cell_type": "markdown",
   "id": "e4a81836",
   "metadata": {},
   "source": [
    "There are 1,650 unique tags in the 'Tags' column. The top 20 most occuring 'Tags' are:"
   ]
  },
  {
   "cell_type": "code",
   "execution_count": 42,
   "id": "2b980ce4",
   "metadata": {},
   "outputs": [
    {
     "data": {
      "text/html": [
       "<div>\n",
       "<style scoped>\n",
       "    .dataframe tbody tr th:only-of-type {\n",
       "        vertical-align: middle;\n",
       "    }\n",
       "\n",
       "    .dataframe tbody tr th {\n",
       "        vertical-align: top;\n",
       "    }\n",
       "\n",
       "    .dataframe thead th {\n",
       "        text-align: right;\n",
       "    }\n",
       "</style>\n",
       "<table border=\"1\" class=\"dataframe\">\n",
       "  <thead>\n",
       "    <tr style=\"text-align: right;\">\n",
       "      <th></th>\n",
       "      <th>Tag</th>\n",
       "      <th>Count</th>\n",
       "    </tr>\n",
       "  </thead>\n",
       "  <tbody>\n",
       "    <tr>\n",
       "      <th>0</th>\n",
       "      <td>Leisure trip</td>\n",
       "      <td>41609</td>\n",
       "    </tr>\n",
       "    <tr>\n",
       "      <th>1</th>\n",
       "      <td>Submitted from a mobile device</td>\n",
       "      <td>30577</td>\n",
       "    </tr>\n",
       "    <tr>\n",
       "      <th>2</th>\n",
       "      <td>Couple</td>\n",
       "      <td>25176</td>\n",
       "    </tr>\n",
       "    <tr>\n",
       "      <th>3</th>\n",
       "      <td>Stayed 1 night</td>\n",
       "      <td>19445</td>\n",
       "    </tr>\n",
       "    <tr>\n",
       "      <th>4</th>\n",
       "      <td>Stayed 2 nights</td>\n",
       "      <td>13249</td>\n",
       "    </tr>\n",
       "    <tr>\n",
       "      <th>5</th>\n",
       "      <td>Solo traveler</td>\n",
       "      <td>10861</td>\n",
       "    </tr>\n",
       "    <tr>\n",
       "      <th>6</th>\n",
       "      <td>Stayed 3 nights</td>\n",
       "      <td>9565</td>\n",
       "    </tr>\n",
       "    <tr>\n",
       "      <th>7</th>\n",
       "      <td>Business trip</td>\n",
       "      <td>8424</td>\n",
       "    </tr>\n",
       "    <tr>\n",
       "      <th>8</th>\n",
       "      <td>Group</td>\n",
       "      <td>6564</td>\n",
       "    </tr>\n",
       "    <tr>\n",
       "      <th>9</th>\n",
       "      <td>Family with young children</td>\n",
       "      <td>6101</td>\n",
       "    </tr>\n",
       "    <tr>\n",
       "      <th>10</th>\n",
       "      <td>Stayed 4 nights</td>\n",
       "      <td>4766</td>\n",
       "    </tr>\n",
       "    <tr>\n",
       "      <th>11</th>\n",
       "      <td>Double Room</td>\n",
       "      <td>3495</td>\n",
       "    </tr>\n",
       "    <tr>\n",
       "      <th>12</th>\n",
       "      <td>Standard Double Room</td>\n",
       "      <td>3221</td>\n",
       "    </tr>\n",
       "    <tr>\n",
       "      <th>13</th>\n",
       "      <td>Superior Double Room</td>\n",
       "      <td>3131</td>\n",
       "    </tr>\n",
       "    <tr>\n",
       "      <th>14</th>\n",
       "      <td>Family with older children</td>\n",
       "      <td>2604</td>\n",
       "    </tr>\n",
       "    <tr>\n",
       "      <th>15</th>\n",
       "      <td>Deluxe Double Room</td>\n",
       "      <td>2514</td>\n",
       "    </tr>\n",
       "    <tr>\n",
       "      <th>16</th>\n",
       "      <td>Double or Twin Room</td>\n",
       "      <td>2222</td>\n",
       "    </tr>\n",
       "    <tr>\n",
       "      <th>17</th>\n",
       "      <td>Stayed 5 nights</td>\n",
       "      <td>2100</td>\n",
       "    </tr>\n",
       "    <tr>\n",
       "      <th>18</th>\n",
       "      <td>Standard Double or Twin Room</td>\n",
       "      <td>1765</td>\n",
       "    </tr>\n",
       "    <tr>\n",
       "      <th>19</th>\n",
       "      <td>Classic Double Room</td>\n",
       "      <td>1591</td>\n",
       "    </tr>\n",
       "  </tbody>\n",
       "</table>\n",
       "</div>"
      ],
      "text/plain": [
       "                                 Tag  Count\n",
       "0                      Leisure trip   41609\n",
       "1    Submitted from a mobile device   30577\n",
       "2                            Couple   25176\n",
       "3                    Stayed 1 night   19445\n",
       "4                   Stayed 2 nights   13249\n",
       "5                     Solo traveler   10861\n",
       "6                   Stayed 3 nights    9565\n",
       "7                     Business trip    8424\n",
       "8                             Group    6564\n",
       "9        Family with young children    6101\n",
       "10                  Stayed 4 nights    4766\n",
       "11                      Double Room    3495\n",
       "12             Standard Double Room    3221\n",
       "13             Superior Double Room    3131\n",
       "14       Family with older children    2604\n",
       "15               Deluxe Double Room    2514\n",
       "16              Double or Twin Room    2222\n",
       "17                  Stayed 5 nights    2100\n",
       "18     Standard Double or Twin Room    1765\n",
       "19              Classic Double Room    1591"
      ]
     },
     "execution_count": 42,
     "metadata": {},
     "output_type": "execute_result"
    }
   ],
   "source": [
    "df_tag_counts.head(20)"
   ]
  },
  {
   "cell_type": "code",
   "execution_count": 43,
   "id": "7797f877",
   "metadata": {},
   "outputs": [
    {
     "data": {
      "text/html": [
       "<div>\n",
       "<style scoped>\n",
       "    .dataframe tbody tr th:only-of-type {\n",
       "        vertical-align: middle;\n",
       "    }\n",
       "\n",
       "    .dataframe tbody tr th {\n",
       "        vertical-align: top;\n",
       "    }\n",
       "\n",
       "    .dataframe thead th {\n",
       "        text-align: right;\n",
       "    }\n",
       "</style>\n",
       "<table border=\"1\" class=\"dataframe\">\n",
       "  <thead>\n",
       "    <tr style=\"text-align: right;\">\n",
       "      <th></th>\n",
       "      <th>Tag</th>\n",
       "      <th>Count</th>\n",
       "    </tr>\n",
       "  </thead>\n",
       "  <tbody>\n",
       "    <tr>\n",
       "      <th>3</th>\n",
       "      <td>Stayed 1 night</td>\n",
       "      <td>19445</td>\n",
       "    </tr>\n",
       "    <tr>\n",
       "      <th>4</th>\n",
       "      <td>Stayed 2 nights</td>\n",
       "      <td>13249</td>\n",
       "    </tr>\n",
       "    <tr>\n",
       "      <th>6</th>\n",
       "      <td>Stayed 3 nights</td>\n",
       "      <td>9565</td>\n",
       "    </tr>\n",
       "    <tr>\n",
       "      <th>10</th>\n",
       "      <td>Stayed 4 nights</td>\n",
       "      <td>4766</td>\n",
       "    </tr>\n",
       "    <tr>\n",
       "      <th>17</th>\n",
       "      <td>Stayed 5 nights</td>\n",
       "      <td>2100</td>\n",
       "    </tr>\n",
       "    <tr>\n",
       "      <th>22</th>\n",
       "      <td>Stayed 6 nights</td>\n",
       "      <td>1002</td>\n",
       "    </tr>\n",
       "    <tr>\n",
       "      <th>26</th>\n",
       "      <td>Stayed 7 nights</td>\n",
       "      <td>737</td>\n",
       "    </tr>\n",
       "    <tr>\n",
       "      <th>52</th>\n",
       "      <td>Stayed 8 nights</td>\n",
       "      <td>267</td>\n",
       "    </tr>\n",
       "    <tr>\n",
       "      <th>74</th>\n",
       "      <td>Stayed 9 nights</td>\n",
       "      <td>128</td>\n",
       "    </tr>\n",
       "    <tr>\n",
       "      <th>99</th>\n",
       "      <td>Stayed 10 nights</td>\n",
       "      <td>83</td>\n",
       "    </tr>\n",
       "    <tr>\n",
       "      <th>139</th>\n",
       "      <td>Stayed 11 nights</td>\n",
       "      <td>41</td>\n",
       "    </tr>\n",
       "    <tr>\n",
       "      <th>161</th>\n",
       "      <td>Stayed 12 nights</td>\n",
       "      <td>33</td>\n",
       "    </tr>\n",
       "    <tr>\n",
       "      <th>182</th>\n",
       "      <td>Stayed 14 nights</td>\n",
       "      <td>28</td>\n",
       "    </tr>\n",
       "    <tr>\n",
       "      <th>233</th>\n",
       "      <td>Stayed 13 nights</td>\n",
       "      <td>20</td>\n",
       "    </tr>\n",
       "    <tr>\n",
       "      <th>439</th>\n",
       "      <td>Stayed 15 nights</td>\n",
       "      <td>9</td>\n",
       "    </tr>\n",
       "    <tr>\n",
       "      <th>596</th>\n",
       "      <td>Stayed 16 nights</td>\n",
       "      <td>6</td>\n",
       "    </tr>\n",
       "    <tr>\n",
       "      <th>624</th>\n",
       "      <td>Stayed 17 nights</td>\n",
       "      <td>5</td>\n",
       "    </tr>\n",
       "    <tr>\n",
       "      <th>639</th>\n",
       "      <td>Special Offer Double Twin Room Stay and Park</td>\n",
       "      <td>5</td>\n",
       "    </tr>\n",
       "    <tr>\n",
       "      <th>869</th>\n",
       "      <td>Stayed 18 nights</td>\n",
       "      <td>3</td>\n",
       "    </tr>\n",
       "    <tr>\n",
       "      <th>882</th>\n",
       "      <td>Stayed 20 nights</td>\n",
       "      <td>3</td>\n",
       "    </tr>\n",
       "  </tbody>\n",
       "</table>\n",
       "</div>"
      ],
      "text/plain": [
       "                                                Tag  Count\n",
       "3                                   Stayed 1 night   19445\n",
       "4                                  Stayed 2 nights   13249\n",
       "6                                  Stayed 3 nights    9565\n",
       "10                                 Stayed 4 nights    4766\n",
       "17                                 Stayed 5 nights    2100\n",
       "22                                 Stayed 6 nights    1002\n",
       "26                                 Stayed 7 nights     737\n",
       "52                                 Stayed 8 nights     267\n",
       "74                                 Stayed 9 nights     128\n",
       "99                                Stayed 10 nights      83\n",
       "139                               Stayed 11 nights      41\n",
       "161                               Stayed 12 nights      33\n",
       "182                               Stayed 14 nights      28\n",
       "233                               Stayed 13 nights      20\n",
       "439                               Stayed 15 nights       9\n",
       "596                               Stayed 16 nights       6\n",
       "624                               Stayed 17 nights       5\n",
       "639   Special Offer Double Twin Room Stay and Park       5\n",
       "869                               Stayed 18 nights       3\n",
       "882                               Stayed 20 nights       3"
      ]
     },
     "execution_count": 43,
     "metadata": {},
     "output_type": "execute_result"
    }
   ],
   "source": [
    "df_tag_counts[df_tag_counts['Tag'].str.contains('stay', case=False)].head(20)"
   ]
  },
  {
   "cell_type": "markdown",
   "id": "c6f4d4ca",
   "metadata": {},
   "source": [
    "Trying to encode the 'Tags' column will introduce the issue of high dimensionality to the model. Although it is possible to further prune this column to obtain a smaller number of relevant tags, instead I will drop this column from my analysis moving forward."
   ]
  },
  {
   "cell_type": "code",
   "execution_count": 44,
   "id": "b9d4a464",
   "metadata": {},
   "outputs": [
    {
     "data": {
      "text/html": [
       "<div>\n",
       "<style scoped>\n",
       "    .dataframe tbody tr th:only-of-type {\n",
       "        vertical-align: middle;\n",
       "    }\n",
       "\n",
       "    .dataframe tbody tr th {\n",
       "        vertical-align: top;\n",
       "    }\n",
       "\n",
       "    .dataframe thead th {\n",
       "        text-align: right;\n",
       "    }\n",
       "</style>\n",
       "<table border=\"1\" class=\"dataframe\">\n",
       "  <thead>\n",
       "    <tr style=\"text-align: right;\">\n",
       "      <th></th>\n",
       "      <th>Additional_Number_of_Scoring</th>\n",
       "      <th>Average_Score</th>\n",
       "      <th>Negative_Review</th>\n",
       "      <th>Review_Total_Negative_Word_Counts</th>\n",
       "      <th>Total_Number_of_Reviews</th>\n",
       "      <th>Positive_Review</th>\n",
       "      <th>Review_Total_Positive_Word_Counts</th>\n",
       "      <th>Total_Number_of_Reviews_Reviewer_Has_Given</th>\n",
       "      <th>Reviewer_Score</th>\n",
       "      <th>days_since_review</th>\n",
       "      <th>...</th>\n",
       "      <th>Hotel_In_Spain</th>\n",
       "      <th>Reviewer_from_ Australia</th>\n",
       "      <th>Reviewer_from_ Germany</th>\n",
       "      <th>Reviewer_from_ Ireland</th>\n",
       "      <th>Reviewer_from_ Netherlands</th>\n",
       "      <th>Reviewer_from_ Saudi Arabia</th>\n",
       "      <th>Reviewer_from_ Switzerland</th>\n",
       "      <th>Reviewer_from_ United Arab Emirates</th>\n",
       "      <th>Reviewer_from_ United Kingdom</th>\n",
       "      <th>Reviewer_from_ United States of America</th>\n",
       "    </tr>\n",
       "  </thead>\n",
       "  <tbody>\n",
       "    <tr>\n",
       "      <th>0</th>\n",
       "      <td>2682</td>\n",
       "      <td>7.1</td>\n",
       "      <td>Horrible decor and rooms showing their age pe...</td>\n",
       "      <td>28</td>\n",
       "      <td>9086</td>\n",
       "      <td>Good location for Canary Wharf Good price for...</td>\n",
       "      <td>13</td>\n",
       "      <td>4</td>\n",
       "      <td>5</td>\n",
       "      <td>592</td>\n",
       "      <td>...</td>\n",
       "      <td>0</td>\n",
       "      <td>0</td>\n",
       "      <td>0</td>\n",
       "      <td>0</td>\n",
       "      <td>0</td>\n",
       "      <td>0</td>\n",
       "      <td>0</td>\n",
       "      <td>0</td>\n",
       "      <td>1</td>\n",
       "      <td>0</td>\n",
       "    </tr>\n",
       "    <tr>\n",
       "      <th>1</th>\n",
       "      <td>137</td>\n",
       "      <td>8.6</td>\n",
       "      <td>Only one electrical outlet two plugs per room...</td>\n",
       "      <td>17</td>\n",
       "      <td>1179</td>\n",
       "      <td>Very friendly and helpful service Great locat...</td>\n",
       "      <td>12</td>\n",
       "      <td>1</td>\n",
       "      <td>10</td>\n",
       "      <td>716</td>\n",
       "      <td>...</td>\n",
       "      <td>0</td>\n",
       "      <td>0</td>\n",
       "      <td>0</td>\n",
       "      <td>0</td>\n",
       "      <td>0</td>\n",
       "      <td>0</td>\n",
       "      <td>0</td>\n",
       "      <td>0</td>\n",
       "      <td>0</td>\n",
       "      <td>1</td>\n",
       "    </tr>\n",
       "    <tr>\n",
       "      <th>2</th>\n",
       "      <td>301</td>\n",
       "      <td>8.4</td>\n",
       "      <td>Breakfast buffet was not very good quality ro...</td>\n",
       "      <td>14</td>\n",
       "      <td>3445</td>\n",
       "      <td>The hotel was easy to find by car and a great...</td>\n",
       "      <td>21</td>\n",
       "      <td>1</td>\n",
       "      <td>8</td>\n",
       "      <td>385</td>\n",
       "      <td>...</td>\n",
       "      <td>0</td>\n",
       "      <td>0</td>\n",
       "      <td>0</td>\n",
       "      <td>0</td>\n",
       "      <td>0</td>\n",
       "      <td>0</td>\n",
       "      <td>0</td>\n",
       "      <td>0</td>\n",
       "      <td>1</td>\n",
       "      <td>0</td>\n",
       "    </tr>\n",
       "  </tbody>\n",
       "</table>\n",
       "<p>3 rows × 25 columns</p>\n",
       "</div>"
      ],
      "text/plain": [
       "   Additional_Number_of_Scoring  Average_Score  \\\n",
       "0                          2682            7.1   \n",
       "1                           137            8.6   \n",
       "2                           301            8.4   \n",
       "\n",
       "                                     Negative_Review  \\\n",
       "0   Horrible decor and rooms showing their age pe...   \n",
       "1   Only one electrical outlet two plugs per room...   \n",
       "2   Breakfast buffet was not very good quality ro...   \n",
       "\n",
       "   Review_Total_Negative_Word_Counts  Total_Number_of_Reviews  \\\n",
       "0                                 28                     9086   \n",
       "1                                 17                     1179   \n",
       "2                                 14                     3445   \n",
       "\n",
       "                                     Positive_Review  \\\n",
       "0   Good location for Canary Wharf Good price for...   \n",
       "1   Very friendly and helpful service Great locat...   \n",
       "2   The hotel was easy to find by car and a great...   \n",
       "\n",
       "   Review_Total_Positive_Word_Counts  \\\n",
       "0                                 13   \n",
       "1                                 12   \n",
       "2                                 21   \n",
       "\n",
       "   Total_Number_of_Reviews_Reviewer_Has_Given  Reviewer_Score  \\\n",
       "0                                           4               5   \n",
       "1                                           1              10   \n",
       "2                                           1               8   \n",
       "\n",
       "   days_since_review  ...  Hotel_In_Spain  Reviewer_from_ Australia   \\\n",
       "0                592  ...               0                          0   \n",
       "1                716  ...               0                          0   \n",
       "2                385  ...               0                          0   \n",
       "\n",
       "   Reviewer_from_ Germany   Reviewer_from_ Ireland   \\\n",
       "0                        0                        0   \n",
       "1                        0                        0   \n",
       "2                        0                        0   \n",
       "\n",
       "   Reviewer_from_ Netherlands   Reviewer_from_ Saudi Arabia   \\\n",
       "0                            0                             0   \n",
       "1                            0                             0   \n",
       "2                            0                             0   \n",
       "\n",
       "   Reviewer_from_ Switzerland   Reviewer_from_ United Arab Emirates   \\\n",
       "0                            0                                     0   \n",
       "1                            0                                     0   \n",
       "2                            0                                     0   \n",
       "\n",
       "   Reviewer_from_ United Kingdom   Reviewer_from_ United States of America   \n",
       "0                               1                                         0  \n",
       "1                               0                                         1  \n",
       "2                               1                                         0  \n",
       "\n",
       "[3 rows x 25 columns]"
      ]
     },
     "execution_count": 44,
     "metadata": {},
     "output_type": "execute_result"
    }
   ],
   "source": [
    "# Dropping the non-numeric columns except Positive/Negative reviews & the columns created above\n",
    "\n",
    "sampled_reviews.drop(['index', 'Hotel_Address', 'Review_Date', 'Hotel_Name', 'Tags'], axis = 1, inplace = True)\n",
    "\n",
    "sampled_reviews.head(3)"
   ]
  },
  {
   "cell_type": "code",
   "execution_count": 45,
   "id": "99bae638",
   "metadata": {},
   "outputs": [
    {
     "name": "stdout",
     "output_type": "stream",
     "text": [
      "<class 'pandas.core.frame.DataFrame'>\n",
      "RangeIndex: 51521 entries, 0 to 51520\n",
      "Data columns (total 25 columns):\n",
      " #   Column                                      Non-Null Count  Dtype  \n",
      "---  ------                                      --------------  -----  \n",
      " 0   Additional_Number_of_Scoring                51521 non-null  int64  \n",
      " 1   Average_Score                               51521 non-null  float64\n",
      " 2   Negative_Review                             51521 non-null  object \n",
      " 3   Review_Total_Negative_Word_Counts           51521 non-null  int64  \n",
      " 4   Total_Number_of_Reviews                     51521 non-null  int64  \n",
      " 5   Positive_Review                             51521 non-null  object \n",
      " 6   Review_Total_Positive_Word_Counts           51521 non-null  int64  \n",
      " 7   Total_Number_of_Reviews_Reviewer_Has_Given  51521 non-null  int64  \n",
      " 8   Reviewer_Score                              51521 non-null  int64  \n",
      " 9   days_since_review                           51521 non-null  int64  \n",
      " 10  Sentiment                                   51521 non-null  int64  \n",
      " 11  Hotel_In_France                             51521 non-null  uint8  \n",
      " 12  Hotel_In_Italy                              51521 non-null  uint8  \n",
      " 13  Hotel_In_Kingdom                            51521 non-null  uint8  \n",
      " 14  Hotel_In_Netherlands                        51521 non-null  uint8  \n",
      " 15  Hotel_In_Spain                              51521 non-null  uint8  \n",
      " 16  Reviewer_from_ Australia                    51521 non-null  uint8  \n",
      " 17  Reviewer_from_ Germany                      51521 non-null  uint8  \n",
      " 18  Reviewer_from_ Ireland                      51521 non-null  uint8  \n",
      " 19  Reviewer_from_ Netherlands                  51521 non-null  uint8  \n",
      " 20  Reviewer_from_ Saudi Arabia                 51521 non-null  uint8  \n",
      " 21  Reviewer_from_ Switzerland                  51521 non-null  uint8  \n",
      " 22  Reviewer_from_ United Arab Emirates         51521 non-null  uint8  \n",
      " 23  Reviewer_from_ United Kingdom               51521 non-null  uint8  \n",
      " 24  Reviewer_from_ United States of America     51521 non-null  uint8  \n",
      "dtypes: float64(1), int64(8), object(2), uint8(14)\n",
      "memory usage: 5.0+ MB\n"
     ]
    }
   ],
   "source": [
    "sampled_reviews.info()"
   ]
  },
  {
   "cell_type": "markdown",
   "id": "b8c2c051",
   "metadata": {},
   "source": [
    "#### Q. 3c Splitting the data into test & train sets"
   ]
  },
  {
   "cell_type": "code",
   "execution_count": 46,
   "id": "9a53d129",
   "metadata": {},
   "outputs": [],
   "source": [
    "# Separate the features (X) and the target variable (y)\n",
    "\n",
    "X = sampled_reviews.drop(['Sentiment'], axis=1)\n",
    "y = sampled_reviews['Sentiment']\n",
    "\n",
    "X_train, X_test, y_train, y_test = train_test_split(X, y, test_size=0.3, random_state=42, stratify=y)"
   ]
  },
  {
   "cell_type": "code",
   "execution_count": 47,
   "id": "19335a37",
   "metadata": {},
   "outputs": [
    {
     "data": {
      "text/plain": [
       "(36064, 24)"
      ]
     },
     "execution_count": 47,
     "metadata": {},
     "output_type": "execute_result"
    }
   ],
   "source": [
    "X_train.shape"
   ]
  },
  {
   "cell_type": "code",
   "execution_count": 48,
   "id": "0187f6f7",
   "metadata": {},
   "outputs": [
    {
     "data": {
      "text/plain": [
       "(15457, 24)"
      ]
     },
     "execution_count": 48,
     "metadata": {},
     "output_type": "execute_result"
    }
   ],
   "source": [
    "X_test.shape"
   ]
  },
  {
   "cell_type": "markdown",
   "id": "258bb37d",
   "metadata": {},
   "source": [
    "#### Q. 3d Use a count vectorizer to combine 'Positive_Review' and 'Negative_Review' columns with the numeric data"
   ]
  },
  {
   "cell_type": "code",
   "execution_count": 49,
   "id": "b9bacc8b",
   "metadata": {},
   "outputs": [],
   "source": [
    "from sklearn.feature_extraction.text import CountVectorizer"
   ]
  },
  {
   "cell_type": "markdown",
   "id": "f987cf00",
   "metadata": {},
   "source": [
    "First, I will fit bag of words while removing the English stop words from both of the Review columns :"
   ]
  },
  {
   "cell_type": "code",
   "execution_count": 50,
   "id": "c78b850a",
   "metadata": {},
   "outputs": [
    {
     "data": {
      "text/plain": [
       "<36064x14871 sparse matrix of type '<class 'numpy.int64'>'\n",
       "\twith 273139 stored elements in Compressed Sparse Row format>"
      ]
     },
     "execution_count": 50,
     "metadata": {},
     "output_type": "execute_result"
    }
   ],
   "source": [
    "# 1. Instantiate \n",
    "neg_bagofwords = CountVectorizer(stop_words=\"english\")\n",
    "\n",
    "# 2. Fit \n",
    "neg_bagofwords.fit(X_train[\"Negative_Review\"])\n",
    "\n",
    "# 3. Transform\n",
    "neg_reviews_transformed = neg_bagofwords.transform(X_train[\"Negative_Review\"])\n",
    "neg_reviews_transformed"
   ]
  },
  {
   "cell_type": "markdown",
   "id": "a46f0b0f",
   "metadata": {},
   "source": [
    "We can see from the result of the fit above that the sparse matrix has 36,064 rows and 14,871 columns. In other words, there are 14,871  unique terms or tokens returned from the Negative_Review column after the English stop words were removed."
   ]
  },
  {
   "cell_type": "code",
   "execution_count": 51,
   "id": "cf885614",
   "metadata": {},
   "outputs": [
    {
     "data": {
      "text/plain": [
       "<36064x12859 sparse matrix of type '<class 'numpy.int64'>'\n",
       "\twith 309557 stored elements in Compressed Sparse Row format>"
      ]
     },
     "execution_count": 51,
     "metadata": {},
     "output_type": "execute_result"
    }
   ],
   "source": [
    "# 1. Instantiate \n",
    "pos_bagofwords = CountVectorizer(stop_words=\"english\")\n",
    "\n",
    "# 2. Fit \n",
    "pos_bagofwords.fit(X_train[\"Positive_Review\"])\n",
    "\n",
    "# 3. Transform\n",
    "pos_reviews_transformed = pos_bagofwords.transform(X_train[\"Positive_Review\"])\n",
    "pos_reviews_transformed"
   ]
  },
  {
   "cell_type": "markdown",
   "id": "c72b7273",
   "metadata": {},
   "source": [
    "Repeating the same exercise on the Positive_Review column, we can see that there are 12,859 unique terms or tokens returned from the Negative_Review column after the English stop words were removed.\n",
    "\n",
    "We can prune the dataset further by specifying the min_df parameter. "
   ]
  },
  {
   "cell_type": "markdown",
   "id": "0356cfe1",
   "metadata": {},
   "source": [
    "#### Q. 3e What does the 'min_df' parameter do?\n",
    "\n",
    "'min_df' is a parameter we can specify in the CountVectorizer function to remove terms that appear too infrequently within the dataset. This is a nice feature to have for pruning the number of unique tokens returned.The parameter can be specified in two ways:\n",
    "- min_df = 0.01 where tokens that appear in less than 1% of the documents are ignored.\n",
    "- min_df = 5 where tokens that appear in less than 5 documents are ignored.\n",
    "\n",
    "Next, I will explore how the number of unique tokens returned varies with min_df below:"
   ]
  },
  {
   "cell_type": "code",
   "execution_count": 52,
   "id": "ec3ef1ac",
   "metadata": {},
   "outputs": [],
   "source": [
    "number_unique_tokens = []\n",
    "\n",
    "for i in np.arange(0.,0.1,0.01):\n",
    "    # 1. Instantiate\n",
    "    neg_bagofwords = CountVectorizer(stop_words = \"english\", min_df = i)\n",
    "    # 2. Fit\n",
    "    neg_bagofwords.fit(X_train[\"Negative_Review\"])\n",
    "    # 3. Transform\n",
    "    neg_reviews_transformed = neg_bagofwords.transform(X_train[\"Negative_Review\"])\n",
    "    neg_reviews_transformed\n",
    "    number_unique_tokens.append(neg_reviews_transformed.shape[1])"
   ]
  },
  {
   "cell_type": "code",
   "execution_count": 53,
   "id": "7cfc17f2",
   "metadata": {},
   "outputs": [
    {
     "data": {
      "image/png": "[encoded data removed]",
      "text/plain": [
       "<Figure size 1152x576 with 1 Axes>"
      ]
     },
     "metadata": {
      "needs_background": "light"
     },
     "output_type": "display_data"
    }
   ],
   "source": [
    "# plot the change in the number of unique tokens returned from the Negative_Review column based on varying min_df parameter\n",
    "\n",
    "plt.figure(figsize=(16, 8))\n",
    "plt.scatter(x = np.arange(0.,0.1,0.01), y = number_unique_tokens)\n",
    "plt.xlabel('min_df')\n",
    "plt.ylabel('Number of Unique Tokens')\n",
    "plt.title('Number of Unique Tokens Returned from Negative_Review Column with Varying min_df')\n",
    "plt.show()"
   ]
  },
  {
   "cell_type": "code",
   "execution_count": 54,
   "id": "e515eaef",
   "metadata": {},
   "outputs": [
    {
     "data": {
      "text/plain": [
       "[14871, 124, 44, 23, 13, 9, 6, 5, 5, 4]"
      ]
     },
     "execution_count": 54,
     "metadata": {},
     "output_type": "execute_result"
    }
   ],
   "source": [
    "number_unique_tokens"
   ]
  },
  {
   "cell_type": "markdown",
   "id": "92e2a9ac",
   "metadata": {},
   "source": [
    "As seen above, by specifying min_df = 0.01, the total number of unique tokens in the Negative_Review column reduced drastically from 14,871 to 124. To keep only 23 unique tokens from the Negative_Review column, I will proceed with excluding terms that appear in less than 3% of the Negative reviews (min_df = 0.03)"
   ]
  },
  {
   "cell_type": "code",
   "execution_count": 55,
   "id": "0bd8b099",
   "metadata": {},
   "outputs": [
    {
     "data": {
      "text/plain": [
       "<36064x23 sparse matrix of type '<class 'numpy.int64'>'\n",
       "\twith 54865 stored elements in Compressed Sparse Row format>"
      ]
     },
     "execution_count": 55,
     "metadata": {},
     "output_type": "execute_result"
    }
   ],
   "source": [
    "# 1. Instantiate \n",
    "neg_bagofwords = CountVectorizer(stop_words=\"english\", min_df=0.03)\n",
    "\n",
    "# 2. Fit \n",
    "neg_bagofwords.fit(X_train[\"Negative_Review\"])\n",
    "\n",
    "# 3. Transform\n",
    "neg_reviews_transformed = neg_bagofwords.transform(X_train[\"Negative_Review\"])\n",
    "neg_reviews_transformed"
   ]
  },
  {
   "cell_type": "markdown",
   "id": "ea1c195f",
   "metadata": {},
   "source": [
    "Next, I will look at the top 20 most occuring tokens in the Negative_Review column:"
   ]
  },
  {
   "cell_type": "code",
   "execution_count": 56,
   "id": "b36e8555",
   "metadata": {},
   "outputs": [
    {
     "data": {
      "image/png": "[encoded data removed]",
      "text/plain": [
       "<Figure size 1080x360 with 1 Axes>"
      ]
     },
     "metadata": {
      "needs_background": "light"
     },
     "output_type": "display_data"
    }
   ],
   "source": [
    "negative_words = pd.DataFrame(\n",
    "    {\"counts\": neg_reviews_transformed.toarray().sum(axis=0)},\n",
    "    index=neg_bagofwords.get_feature_names()\n",
    ").sort_values(\"counts\", ascending=False)\n",
    "\n",
    "negative_words.head(20).plot(kind=\"bar\", figsize=(15, 5), legend=False)\n",
    "plt.title(\"Top 20 most frequently occurring words in the Negative_Reviews column\")\n",
    "plt.ylabel(\"Count\")\n",
    "plt.xticks(rotation=45)\n",
    "plt.show()"
   ]
  },
  {
   "cell_type": "markdown",
   "id": "b271e1e1",
   "metadata": {},
   "source": [
    "Repeating the same exercise on the Positive_Review column:"
   ]
  },
  {
   "cell_type": "code",
   "execution_count": 57,
   "id": "4d59861e",
   "metadata": {},
   "outputs": [
    {
     "data": {
      "text/plain": [
       "[12859, 117, 60, 33, 25, 20, 17, 16, 14, 14]"
      ]
     },
     "execution_count": 57,
     "metadata": {},
     "output_type": "execute_result"
    }
   ],
   "source": [
    "number_unique_tokens = []\n",
    "\n",
    "for i in np.arange(0.,0.1,0.01):\n",
    "    # 1. Instantiate\n",
    "    pos_bagofwords = CountVectorizer(stop_words = \"english\", min_df = i)\n",
    "    # 2. Fit\n",
    "    pos_bagofwords.fit(X_train[\"Positive_Review\"])\n",
    "    # 3. Transform\n",
    "    pos_reviews_transformed = pos_bagofwords.transform(X_train[\"Positive_Review\"])\n",
    "    pos_reviews_transformed\n",
    "    number_unique_tokens.append(pos_reviews_transformed.shape[1])\n",
    "\n",
    "number_unique_tokens"
   ]
  },
  {
   "cell_type": "markdown",
   "id": "017007b8",
   "metadata": {},
   "source": [
    "Proceeding with min_df = 0.04 for the Positive_Review column, we can see the top 20 most frequently occuring tokens:"
   ]
  },
  {
   "cell_type": "code",
   "execution_count": 58,
   "id": "7361c143",
   "metadata": {},
   "outputs": [
    {
     "data": {
      "text/plain": [
       "<36064x25 sparse matrix of type '<class 'numpy.int64'>'\n",
       "\twith 113503 stored elements in Compressed Sparse Row format>"
      ]
     },
     "execution_count": 58,
     "metadata": {},
     "output_type": "execute_result"
    }
   ],
   "source": [
    "# 1. Instantiate \n",
    "pos_bagofwords = CountVectorizer(stop_words=\"english\", min_df=0.04)\n",
    "\n",
    "# 2. Fit \n",
    "pos_bagofwords.fit(X_train[\"Positive_Review\"])\n",
    "\n",
    "# 3. Transform\n",
    "pos_reviews_transformed = pos_bagofwords.transform(X_train[\"Positive_Review\"])\n",
    "pos_reviews_transformed"
   ]
  },
  {
   "cell_type": "code",
   "execution_count": 59,
   "id": "43572af7",
   "metadata": {},
   "outputs": [
    {
     "data": {
      "image/png": "[encoded data removed]",
      "text/plain": [
       "<Figure size 1080x360 with 1 Axes>"
      ]
     },
     "metadata": {
      "needs_background": "light"
     },
     "output_type": "display_data"
    }
   ],
   "source": [
    "positive_words = pd.DataFrame(\n",
    "    {\"counts\": pos_reviews_transformed.toarray().sum(axis=0)},\n",
    "    index=pos_bagofwords.get_feature_names()\n",
    ").sort_values(\"counts\", ascending=False)\n",
    "\n",
    "positive_words.head(20).plot(kind=\"bar\", figsize=(15, 5), legend=False)\n",
    "plt.title(\"Top 20 most frequently occurring words in the Positive_Reviews column\")\n",
    "plt.ylabel(\"Count\")\n",
    "plt.xticks(rotation=45)\n",
    "plt.show()"
   ]
  },
  {
   "cell_type": "markdown",
   "id": "764ef3cd",
   "metadata": {},
   "source": [
    "### Combining the three matrixes"
   ]
  },
  {
   "cell_type": "code",
   "execution_count": 60,
   "id": "de4ff04d",
   "metadata": {},
   "outputs": [],
   "source": [
    "from scipy import sparse\n",
    "from scipy.sparse import csr_matrix, hstack"
   ]
  },
  {
   "cell_type": "code",
   "execution_count": 61,
   "id": "35c7b588",
   "metadata": {},
   "outputs": [
    {
     "data": {
      "text/plain": [
       "<36064x23 sparse matrix of type '<class 'numpy.float64'>'\n",
       "\twith 356057 stored elements in Compressed Sparse Row format>"
      ]
     },
     "execution_count": 61,
     "metadata": {},
     "output_type": "execute_result"
    }
   ],
   "source": [
    "# Dropping the 'Negative_Review' & 'Positive_Review' columns from the train Data\n",
    "\n",
    "train_data = pd.concat([X_train, y_train], axis=1)\n",
    "train_data.drop(['Negative_Review', 'Positive_Review'], axis = 1, inplace = True)\n",
    "\n",
    "# Converting the numeric data into a sparse matrix\n",
    "sparse_train_data = sparse.csr_matrix(train_data)\n",
    "sparse_train_data"
   ]
  },
  {
   "cell_type": "code",
   "execution_count": 62,
   "id": "19660357",
   "metadata": {},
   "outputs": [
    {
     "data": {
      "text/plain": [
       "<36064x71 sparse matrix of type '<class 'numpy.float64'>'\n",
       "\twith 524425 stored elements in COOrdinate format>"
      ]
     },
     "execution_count": 62,
     "metadata": {},
     "output_type": "execute_result"
    }
   ],
   "source": [
    "# Horizontally stacking the three matrices\n",
    "combined_train_data = sparse.hstack((pos_reviews_transformed, neg_reviews_transformed, sparse_train_data))  \n",
    "combined_train_data"
   ]
  }
 ],
 "metadata": {
  "kernelspec": {
   "display_name": "Python 3 (ipykernel)",
   "language": "python",
   "name": "python3"
  },
  "language_info": {
   "codemirror_mode": {
    "name": "ipython",
    "version": 3
   },
   "file_extension": ".py",
   "mimetype": "text/x-python",
   "name": "python",
   "nbconvert_exporter": "python",
   "pygments_lexer": "ipython3",
   "version": "3.11.5"
  },
  "toc": {
   "base_numbering": 1,
   "nav_menu": {},
   "number_sections": true,
   "sideBar": true,
   "skip_h1_title": false,
   "title_cell": "Table of Contents",
   "title_sidebar": "Contents",
   "toc_cell": false,
   "toc_position": {},
   "toc_section_display": true,
   "toc_window_display": false
  }
 },
 "nbformat": 4,
 "nbformat_minor": 5
}
